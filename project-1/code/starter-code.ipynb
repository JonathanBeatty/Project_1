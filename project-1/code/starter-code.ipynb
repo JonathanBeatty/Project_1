{
 "cells": [
  {
   "cell_type": "markdown",
   "metadata": {},
   "source": [
    "# Project 1"
   ]
  },
  {
   "cell_type": "markdown",
   "metadata": {},
   "source": [
    "## Step 1: Load the data and perform basic operations."
   ]
  },
  {
   "cell_type": "markdown",
   "metadata": {},
   "source": [
    "##### 1. Load the data in using pandas."
   ]
  },
  {
   "cell_type": "code",
   "execution_count": 705,
   "metadata": {},
   "outputs": [],
   "source": [
    "import pandas as pd\n",
    "import numpy as np\n",
    "import seaborn as sns\n",
    "import matplotlib.pyplot as plt\n",
    "import scipy.stats as stats\n",
    "\n",
    "%matplotlib inline\n",
    "\n",
    "SAT = pd.read_csv('/Users/jonathanbeatty/DSI-US-5/project-1/data/sat.csv')\n",
    "ACT = pd.read_csv('/Users/jonathanbeatty/DSI-US-5/project-1/data/act.csv')"
   ]
  },
  {
   "cell_type": "code",
   "execution_count": 706,
   "metadata": {},
   "outputs": [],
   "source": [
    "SAT.head()\n",
    "SAT.set_index('State', inplace= True)"
   ]
  },
  {
   "cell_type": "code",
   "execution_count": 707,
   "metadata": {},
   "outputs": [],
   "source": [
    "ACT.set_index('State', inplace= True)"
   ]
  },
  {
   "cell_type": "markdown",
   "metadata": {},
   "source": [
    "##### 2. Print the first ten rows of each dataframe."
   ]
  },
  {
   "cell_type": "code",
   "execution_count": 708,
   "metadata": {},
   "outputs": [
    {
     "data": {
      "text/html": [
       "<div>\n",
       "<style scoped>\n",
       "    .dataframe tbody tr th:only-of-type {\n",
       "        vertical-align: middle;\n",
       "    }\n",
       "\n",
       "    .dataframe tbody tr th {\n",
       "        vertical-align: top;\n",
       "    }\n",
       "\n",
       "    .dataframe thead th {\n",
       "        text-align: right;\n",
       "    }\n",
       "</style>\n",
       "<table border=\"1\" class=\"dataframe\">\n",
       "  <thead>\n",
       "    <tr style=\"text-align: right;\">\n",
       "      <th></th>\n",
       "      <th>Unnamed: 0</th>\n",
       "      <th>Participation</th>\n",
       "      <th>Evidence-Based Reading and Writing</th>\n",
       "      <th>Math</th>\n",
       "      <th>Total</th>\n",
       "    </tr>\n",
       "    <tr>\n",
       "      <th>State</th>\n",
       "      <th></th>\n",
       "      <th></th>\n",
       "      <th></th>\n",
       "      <th></th>\n",
       "      <th></th>\n",
       "    </tr>\n",
       "  </thead>\n",
       "  <tbody>\n",
       "    <tr>\n",
       "      <th>Alabama</th>\n",
       "      <td>0</td>\n",
       "      <td>5%</td>\n",
       "      <td>593</td>\n",
       "      <td>572</td>\n",
       "      <td>1165</td>\n",
       "    </tr>\n",
       "    <tr>\n",
       "      <th>Alaska</th>\n",
       "      <td>1</td>\n",
       "      <td>38%</td>\n",
       "      <td>547</td>\n",
       "      <td>533</td>\n",
       "      <td>1080</td>\n",
       "    </tr>\n",
       "    <tr>\n",
       "      <th>Arizona</th>\n",
       "      <td>2</td>\n",
       "      <td>30%</td>\n",
       "      <td>563</td>\n",
       "      <td>553</td>\n",
       "      <td>1116</td>\n",
       "    </tr>\n",
       "    <tr>\n",
       "      <th>Arkansas</th>\n",
       "      <td>3</td>\n",
       "      <td>3%</td>\n",
       "      <td>614</td>\n",
       "      <td>594</td>\n",
       "      <td>1208</td>\n",
       "    </tr>\n",
       "    <tr>\n",
       "      <th>California</th>\n",
       "      <td>4</td>\n",
       "      <td>53%</td>\n",
       "      <td>531</td>\n",
       "      <td>524</td>\n",
       "      <td>1055</td>\n",
       "    </tr>\n",
       "    <tr>\n",
       "      <th>Colorado</th>\n",
       "      <td>5</td>\n",
       "      <td>11%</td>\n",
       "      <td>606</td>\n",
       "      <td>595</td>\n",
       "      <td>1201</td>\n",
       "    </tr>\n",
       "    <tr>\n",
       "      <th>Connecticut</th>\n",
       "      <td>6</td>\n",
       "      <td>100%</td>\n",
       "      <td>530</td>\n",
       "      <td>512</td>\n",
       "      <td>1041</td>\n",
       "    </tr>\n",
       "    <tr>\n",
       "      <th>Delaware</th>\n",
       "      <td>7</td>\n",
       "      <td>100%</td>\n",
       "      <td>503</td>\n",
       "      <td>492</td>\n",
       "      <td>996</td>\n",
       "    </tr>\n",
       "    <tr>\n",
       "      <th>District of Columbia</th>\n",
       "      <td>8</td>\n",
       "      <td>100%</td>\n",
       "      <td>482</td>\n",
       "      <td>468</td>\n",
       "      <td>950</td>\n",
       "    </tr>\n",
       "    <tr>\n",
       "      <th>Florida</th>\n",
       "      <td>9</td>\n",
       "      <td>83%</td>\n",
       "      <td>520</td>\n",
       "      <td>497</td>\n",
       "      <td>1017</td>\n",
       "    </tr>\n",
       "  </tbody>\n",
       "</table>\n",
       "</div>"
      ],
      "text/plain": [
       "                      Unnamed: 0 Participation  \\\n",
       "State                                            \n",
       "Alabama                        0            5%   \n",
       "Alaska                         1           38%   \n",
       "Arizona                        2           30%   \n",
       "Arkansas                       3            3%   \n",
       "California                     4           53%   \n",
       "Colorado                       5           11%   \n",
       "Connecticut                    6          100%   \n",
       "Delaware                       7          100%   \n",
       "District of Columbia           8          100%   \n",
       "Florida                        9           83%   \n",
       "\n",
       "                      Evidence-Based Reading and Writing  Math  Total  \n",
       "State                                                                  \n",
       "Alabama                                              593   572   1165  \n",
       "Alaska                                               547   533   1080  \n",
       "Arizona                                              563   553   1116  \n",
       "Arkansas                                             614   594   1208  \n",
       "California                                           531   524   1055  \n",
       "Colorado                                             606   595   1201  \n",
       "Connecticut                                          530   512   1041  \n",
       "Delaware                                             503   492    996  \n",
       "District of Columbia                                 482   468    950  \n",
       "Florida                                              520   497   1017  "
      ]
     },
     "execution_count": 708,
     "metadata": {},
     "output_type": "execute_result"
    }
   ],
   "source": [
    "SAT.head(10)"
   ]
  },
  {
   "cell_type": "code",
   "execution_count": 709,
   "metadata": {},
   "outputs": [
    {
     "data": {
      "text/html": [
       "<div>\n",
       "<style scoped>\n",
       "    .dataframe tbody tr th:only-of-type {\n",
       "        vertical-align: middle;\n",
       "    }\n",
       "\n",
       "    .dataframe tbody tr th {\n",
       "        vertical-align: top;\n",
       "    }\n",
       "\n",
       "    .dataframe thead th {\n",
       "        text-align: right;\n",
       "    }\n",
       "</style>\n",
       "<table border=\"1\" class=\"dataframe\">\n",
       "  <thead>\n",
       "    <tr style=\"text-align: right;\">\n",
       "      <th></th>\n",
       "      <th>Unnamed: 0</th>\n",
       "      <th>Participation</th>\n",
       "      <th>English</th>\n",
       "      <th>Math</th>\n",
       "      <th>Reading</th>\n",
       "      <th>Science</th>\n",
       "      <th>Composite</th>\n",
       "    </tr>\n",
       "    <tr>\n",
       "      <th>State</th>\n",
       "      <th></th>\n",
       "      <th></th>\n",
       "      <th></th>\n",
       "      <th></th>\n",
       "      <th></th>\n",
       "      <th></th>\n",
       "      <th></th>\n",
       "    </tr>\n",
       "  </thead>\n",
       "  <tbody>\n",
       "    <tr>\n",
       "      <th>National</th>\n",
       "      <td>0</td>\n",
       "      <td>60%</td>\n",
       "      <td>20.3</td>\n",
       "      <td>20.7</td>\n",
       "      <td>21.4</td>\n",
       "      <td>21.0</td>\n",
       "      <td>21.0</td>\n",
       "    </tr>\n",
       "    <tr>\n",
       "      <th>Alabama</th>\n",
       "      <td>1</td>\n",
       "      <td>100%</td>\n",
       "      <td>18.9</td>\n",
       "      <td>18.4</td>\n",
       "      <td>19.7</td>\n",
       "      <td>19.4</td>\n",
       "      <td>19.2</td>\n",
       "    </tr>\n",
       "    <tr>\n",
       "      <th>Alaska</th>\n",
       "      <td>2</td>\n",
       "      <td>65%</td>\n",
       "      <td>18.7</td>\n",
       "      <td>19.8</td>\n",
       "      <td>20.4</td>\n",
       "      <td>19.9</td>\n",
       "      <td>19.8</td>\n",
       "    </tr>\n",
       "    <tr>\n",
       "      <th>Arizona</th>\n",
       "      <td>3</td>\n",
       "      <td>62%</td>\n",
       "      <td>18.6</td>\n",
       "      <td>19.8</td>\n",
       "      <td>20.1</td>\n",
       "      <td>19.8</td>\n",
       "      <td>19.7</td>\n",
       "    </tr>\n",
       "    <tr>\n",
       "      <th>Arkansas</th>\n",
       "      <td>4</td>\n",
       "      <td>100%</td>\n",
       "      <td>18.9</td>\n",
       "      <td>19.0</td>\n",
       "      <td>19.7</td>\n",
       "      <td>19.5</td>\n",
       "      <td>19.4</td>\n",
       "    </tr>\n",
       "    <tr>\n",
       "      <th>California</th>\n",
       "      <td>5</td>\n",
       "      <td>31%</td>\n",
       "      <td>22.5</td>\n",
       "      <td>22.7</td>\n",
       "      <td>23.1</td>\n",
       "      <td>22.2</td>\n",
       "      <td>22.8</td>\n",
       "    </tr>\n",
       "    <tr>\n",
       "      <th>Colorado</th>\n",
       "      <td>6</td>\n",
       "      <td>100%</td>\n",
       "      <td>20.1</td>\n",
       "      <td>20.3</td>\n",
       "      <td>21.2</td>\n",
       "      <td>20.9</td>\n",
       "      <td>20.8</td>\n",
       "    </tr>\n",
       "    <tr>\n",
       "      <th>Connecticut</th>\n",
       "      <td>7</td>\n",
       "      <td>31%</td>\n",
       "      <td>25.5</td>\n",
       "      <td>24.6</td>\n",
       "      <td>25.6</td>\n",
       "      <td>24.6</td>\n",
       "      <td>25.2</td>\n",
       "    </tr>\n",
       "    <tr>\n",
       "      <th>Delaware</th>\n",
       "      <td>8</td>\n",
       "      <td>18%</td>\n",
       "      <td>24.1</td>\n",
       "      <td>23.4</td>\n",
       "      <td>24.8</td>\n",
       "      <td>23.6</td>\n",
       "      <td>24.1</td>\n",
       "    </tr>\n",
       "    <tr>\n",
       "      <th>District of Columbia</th>\n",
       "      <td>9</td>\n",
       "      <td>32%</td>\n",
       "      <td>24.4</td>\n",
       "      <td>23.5</td>\n",
       "      <td>24.9</td>\n",
       "      <td>23.5</td>\n",
       "      <td>24.2</td>\n",
       "    </tr>\n",
       "  </tbody>\n",
       "</table>\n",
       "</div>"
      ],
      "text/plain": [
       "                      Unnamed: 0 Participation  English  Math  Reading  \\\n",
       "State                                                                    \n",
       "National                       0           60%     20.3  20.7     21.4   \n",
       "Alabama                        1          100%     18.9  18.4     19.7   \n",
       "Alaska                         2           65%     18.7  19.8     20.4   \n",
       "Arizona                        3           62%     18.6  19.8     20.1   \n",
       "Arkansas                       4          100%     18.9  19.0     19.7   \n",
       "California                     5           31%     22.5  22.7     23.1   \n",
       "Colorado                       6          100%     20.1  20.3     21.2   \n",
       "Connecticut                    7           31%     25.5  24.6     25.6   \n",
       "Delaware                       8           18%     24.1  23.4     24.8   \n",
       "District of Columbia           9           32%     24.4  23.5     24.9   \n",
       "\n",
       "                      Science  Composite  \n",
       "State                                     \n",
       "National                 21.0       21.0  \n",
       "Alabama                  19.4       19.2  \n",
       "Alaska                   19.9       19.8  \n",
       "Arizona                  19.8       19.7  \n",
       "Arkansas                 19.5       19.4  \n",
       "California               22.2       22.8  \n",
       "Colorado                 20.9       20.8  \n",
       "Connecticut              24.6       25.2  \n",
       "Delaware                 23.6       24.1  \n",
       "District of Columbia     23.5       24.2  "
      ]
     },
     "execution_count": 709,
     "metadata": {},
     "output_type": "execute_result"
    }
   ],
   "source": [
    "ACT.head(10)"
   ]
  },
  {
   "cell_type": "markdown",
   "metadata": {},
   "source": [
    "##### 3. Describe in words what each variable (column) is."
   ]
  },
  {
   "cell_type": "markdown",
   "metadata": {
    "collapsed": true
   },
   "source": [
    "In the SAT dataframe the for column \"Unnamed:0\" is a index column for the states. The \"State\" column contains all the states in aplhabetical order. The \"Participation\" column contains the corresponding participation % of the staes based on the total amount of seniors in the state. The \"EBRW\" column represents the average scores of the Reading and writing section for all students who took the SAT in the corresponding states. The \"Math\" column represents the average scores of the Math section of the SAT for all students who took the SAT in the corresponding state.\n",
    "\n",
    "In the ACT dataframe the firs column \"Unnamed:\" is an index of the rown from 0-50. The \"State\" column contains the states in alphabetical order with a new National row that isnt present in the SAT data. The \"Participation\" column refers to the % of the high school senior population who took the ACT in the given state. The following four columns each refer to the average of a specific area of the ACT for the total amount of students who took the ACT in the state. The last column \"composite\" referes to the average of the four sections before, rounded to the nearest whole number, for the population of students who took the ACT in the state."
   ]
  },
  {
   "cell_type": "markdown",
   "metadata": {},
   "source": [
    "##### 4. Does the data look complete? Are there any obvious issues with the observations?"
   ]
  },
  {
   "cell_type": "markdown",
   "metadata": {},
   "source": [
    "The data looks like its complete with all columns having the correct amount of non null variables in them. The first column in both dataframes is extra and unnecessary. The other obvious issue is that 2 of our columns in both dataframes are object types instead of int or float. Below I remove the execess Unnamed: 0 column and also set the index as State earlier to make merging the dataframes easier."
   ]
  },
  {
   "cell_type": "code",
   "execution_count": 710,
   "metadata": {},
   "outputs": [],
   "source": [
    "ACT = ACT.drop(['Unnamed: 0'], axis = 1)\n",
    "SAT = SAT.drop(['Unnamed: 0'], axis = 1)"
   ]
  },
  {
   "cell_type": "code",
   "execution_count": 711,
   "metadata": {},
   "outputs": [],
   "source": [
    "ACT['Participation'] = ACT['Participation'].map(lambda part_cell: part_cell.replace('%', ''))\n",
    "SAT['Participation'] = SAT['Participation'].map(lambda part_cell: part_cell.replace('%', ''))\n",
    "ACT['Participation'] = ACT['Participation'].map(lambda part_cell: float(part_cell))\n",
    "#df['Participation'] "
   ]
  },
  {
   "cell_type": "code",
   "execution_count": 712,
   "metadata": {},
   "outputs": [
    {
     "data": {
      "text/html": [
       "<div>\n",
       "<style scoped>\n",
       "    .dataframe tbody tr th:only-of-type {\n",
       "        vertical-align: middle;\n",
       "    }\n",
       "\n",
       "    .dataframe tbody tr th {\n",
       "        vertical-align: top;\n",
       "    }\n",
       "\n",
       "    .dataframe thead th {\n",
       "        text-align: right;\n",
       "    }\n",
       "</style>\n",
       "<table border=\"1\" class=\"dataframe\">\n",
       "  <thead>\n",
       "    <tr style=\"text-align: right;\">\n",
       "      <th></th>\n",
       "      <th>Participation</th>\n",
       "      <th>English</th>\n",
       "      <th>Math</th>\n",
       "      <th>Reading</th>\n",
       "      <th>Science</th>\n",
       "      <th>Composite</th>\n",
       "    </tr>\n",
       "    <tr>\n",
       "      <th>State</th>\n",
       "      <th></th>\n",
       "      <th></th>\n",
       "      <th></th>\n",
       "      <th></th>\n",
       "      <th></th>\n",
       "      <th></th>\n",
       "    </tr>\n",
       "  </thead>\n",
       "  <tbody>\n",
       "    <tr>\n",
       "      <th>National</th>\n",
       "      <td>60.0</td>\n",
       "      <td>20.3</td>\n",
       "      <td>20.7</td>\n",
       "      <td>21.4</td>\n",
       "      <td>21.0</td>\n",
       "      <td>21.0</td>\n",
       "    </tr>\n",
       "    <tr>\n",
       "      <th>Alabama</th>\n",
       "      <td>100.0</td>\n",
       "      <td>18.9</td>\n",
       "      <td>18.4</td>\n",
       "      <td>19.7</td>\n",
       "      <td>19.4</td>\n",
       "      <td>19.2</td>\n",
       "    </tr>\n",
       "    <tr>\n",
       "      <th>Alaska</th>\n",
       "      <td>65.0</td>\n",
       "      <td>18.7</td>\n",
       "      <td>19.8</td>\n",
       "      <td>20.4</td>\n",
       "      <td>19.9</td>\n",
       "      <td>19.8</td>\n",
       "    </tr>\n",
       "    <tr>\n",
       "      <th>Arizona</th>\n",
       "      <td>62.0</td>\n",
       "      <td>18.6</td>\n",
       "      <td>19.8</td>\n",
       "      <td>20.1</td>\n",
       "      <td>19.8</td>\n",
       "      <td>19.7</td>\n",
       "    </tr>\n",
       "    <tr>\n",
       "      <th>Arkansas</th>\n",
       "      <td>100.0</td>\n",
       "      <td>18.9</td>\n",
       "      <td>19.0</td>\n",
       "      <td>19.7</td>\n",
       "      <td>19.5</td>\n",
       "      <td>19.4</td>\n",
       "    </tr>\n",
       "  </tbody>\n",
       "</table>\n",
       "</div>"
      ],
      "text/plain": [
       "          Participation  English  Math  Reading  Science  Composite\n",
       "State                                                              \n",
       "National           60.0     20.3  20.7     21.4     21.0       21.0\n",
       "Alabama           100.0     18.9  18.4     19.7     19.4       19.2\n",
       "Alaska             65.0     18.7  19.8     20.4     19.9       19.8\n",
       "Arizona            62.0     18.6  19.8     20.1     19.8       19.7\n",
       "Arkansas          100.0     18.9  19.0     19.7     19.5       19.4"
      ]
     },
     "execution_count": 712,
     "metadata": {},
     "output_type": "execute_result"
    }
   ],
   "source": [
    "ACT.head()"
   ]
  },
  {
   "cell_type": "markdown",
   "metadata": {},
   "source": [
    "##### 5. Print the types of each column."
   ]
  },
  {
   "cell_type": "code",
   "execution_count": 713,
   "metadata": {
    "scrolled": true
   },
   "outputs": [
    {
     "data": {
      "text/plain": [
       "Participation    float64\n",
       "English          float64\n",
       "Math             float64\n",
       "Reading          float64\n",
       "Science          float64\n",
       "Composite        float64\n",
       "dtype: object"
      ]
     },
     "execution_count": 713,
     "metadata": {},
     "output_type": "execute_result"
    }
   ],
   "source": [
    "ACT.dtypes"
   ]
  },
  {
   "cell_type": "code",
   "execution_count": 714,
   "metadata": {},
   "outputs": [
    {
     "data": {
      "text/plain": [
       "Participation                         object\n",
       "Evidence-Based Reading and Writing     int64\n",
       "Math                                   int64\n",
       "Total                                  int64\n",
       "dtype: object"
      ]
     },
     "execution_count": 714,
     "metadata": {},
     "output_type": "execute_result"
    }
   ],
   "source": [
    "SAT.dtypes"
   ]
  },
  {
   "cell_type": "markdown",
   "metadata": {},
   "source": [
    "##### 6. Do any types need to be reassigned? If so, go ahead and do it."
   ]
  },
  {
   "cell_type": "markdown",
   "metadata": {},
   "source": [
    "Yes, state and participation in both dataframes need to be reassigned. State can be reassigned like the index like I did earlier and participation needs to be converted to a float."
   ]
  },
  {
   "cell_type": "code",
   "execution_count": 766,
   "metadata": {},
   "outputs": [
    {
     "name": "stdout",
     "output_type": "stream",
     "text": [
      "<class 'pandas.core.frame.DataFrame'>\n",
      "Index: 52 entries, National to Wyoming\n",
      "Data columns (total 6 columns):\n",
      "Participation    52 non-null float64\n",
      "English          52 non-null float64\n",
      "Math             52 non-null float64\n",
      "Reading          52 non-null float64\n",
      "Science          52 non-null float64\n",
      "Composite        52 non-null float64\n",
      "dtypes: float64(6)\n",
      "memory usage: 5.3+ KB\n"
     ]
    }
   ],
   "source": [
    "ACT['Participation'] = ACT['Participation'].map(lambda part_cell: float(part_cell))\n",
    "SAT['Participation'] = SAT['Participation'].map(lambda part_cell: float(part_cell))\n",
    "\n",
    "ACT.info()"
   ]
  },
  {
   "cell_type": "markdown",
   "metadata": {},
   "source": [
    "##### 7. Create a dictionary for each column mapping the State to its respective value for that column. (For example, you should have three SAT dictionaries.)"
   ]
  },
  {
   "cell_type": "code",
   "execution_count": 716,
   "metadata": {},
   "outputs": [],
   "source": [
    "SAT_columns = ['Total','Math','Evidence-Based Reading and Writing', 'Participation'] \n",
    "ACT_columns = ['Composite', 'Math','Reading', 'Science', 'English']               \n",
    "SAT_dicts = [SAT[s].to_dict() for s in SAT_columns]  \n",
    "ACT_dicts = [ACT[a].to_dict() for a in ACT_columns]\n",
    "#not sure if i did exactly what was asked but we are generating some dictionaries!!!"
   ]
  },
  {
   "cell_type": "markdown",
   "metadata": {},
   "source": [
    "##### 8. Create one dictionary where each key is the column name, and each value is an iterable (a list or a Pandas Series) of all the values in that column."
   ]
  },
  {
   "cell_type": "code",
   "execution_count": 765,
   "metadata": {},
   "outputs": [
    {
     "data": {
      "text/plain": [
       "{'Participation': State\n",
       " Alabama                   5.0\n",
       " Alaska                   38.0\n",
       " Arizona                  30.0\n",
       " Arkansas                  3.0\n",
       " California               53.0\n",
       " Colorado                 11.0\n",
       " Connecticut             100.0\n",
       " Delaware                100.0\n",
       " District of Columbia    100.0\n",
       " Florida                  83.0\n",
       " Georgia                  61.0\n",
       " Hawaii                   55.0\n",
       " Idaho                    93.0\n",
       " Illinois                  9.0\n",
       " Indiana                  63.0\n",
       " Iowa                      2.0\n",
       " Kansas                    4.0\n",
       " Kentucky                  4.0\n",
       " Louisiana                 4.0\n",
       " Maine                    95.0\n",
       " Maryland                 69.0\n",
       " Massachusetts            76.0\n",
       " Michigan                100.0\n",
       " Minnesota                 3.0\n",
       " Mississippi               2.0\n",
       " Missouri                  3.0\n",
       " Montana                  10.0\n",
       " Nebraska                  3.0\n",
       " Nevada                   26.0\n",
       " New Hampshire            96.0\n",
       " New Jersey               70.0\n",
       " New Mexico               11.0\n",
       " New York                 67.0\n",
       " North Carolina           49.0\n",
       " North Dakota              2.0\n",
       " Ohio                     12.0\n",
       " Oklahoma                  7.0\n",
       " Oregon                   43.0\n",
       " Pennsylvania             65.0\n",
       " Rhode Island             71.0\n",
       " South Carolina           50.0\n",
       " South Dakota              3.0\n",
       " Tennessee                 5.0\n",
       " Texas                    62.0\n",
       " Utah                      3.0\n",
       " Vermont                  60.0\n",
       " Virginia                 65.0\n",
       " Washington               64.0\n",
       " West Virginia            14.0\n",
       " Wisconsin                 3.0\n",
       " Wyoming                   3.0\n",
       " Name: Participation, dtype: float64,\n",
       " 'Evidence-Based Reading and Writing': State\n",
       " Alabama                 593\n",
       " Alaska                  547\n",
       " Arizona                 563\n",
       " Arkansas                614\n",
       " California              531\n",
       " Colorado                606\n",
       " Connecticut             530\n",
       " Delaware                503\n",
       " District of Columbia    482\n",
       " Florida                 520\n",
       " Georgia                 535\n",
       " Hawaii                  544\n",
       " Idaho                   513\n",
       " Illinois                559\n",
       " Indiana                 542\n",
       " Iowa                    641\n",
       " Kansas                  632\n",
       " Kentucky                631\n",
       " Louisiana               611\n",
       " Maine                   513\n",
       " Maryland                536\n",
       " Massachusetts           555\n",
       " Michigan                509\n",
       " Minnesota               644\n",
       " Mississippi             634\n",
       " Missouri                640\n",
       " Montana                 605\n",
       " Nebraska                629\n",
       " Nevada                  563\n",
       " New Hampshire           532\n",
       " New Jersey              530\n",
       " New Mexico              577\n",
       " New York                528\n",
       " North Carolina          546\n",
       " North Dakota            635\n",
       " Ohio                    578\n",
       " Oklahoma                530\n",
       " Oregon                  560\n",
       " Pennsylvania            540\n",
       " Rhode Island            539\n",
       " South Carolina          543\n",
       " South Dakota            612\n",
       " Tennessee               623\n",
       " Texas                   513\n",
       " Utah                    624\n",
       " Vermont                 562\n",
       " Virginia                561\n",
       " Washington              541\n",
       " West Virginia           558\n",
       " Wisconsin               642\n",
       " Wyoming                 626\n",
       " Name: Evidence-Based Reading and Writing, dtype: int64,\n",
       " 'Math': State\n",
       " Alabama                 572\n",
       " Alaska                  533\n",
       " Arizona                 553\n",
       " Arkansas                594\n",
       " California              524\n",
       " Colorado                595\n",
       " Connecticut             512\n",
       " Delaware                492\n",
       " District of Columbia    468\n",
       " Florida                 497\n",
       " Georgia                 515\n",
       " Hawaii                  541\n",
       " Idaho                   493\n",
       " Illinois                556\n",
       " Indiana                 532\n",
       " Iowa                    635\n",
       " Kansas                  628\n",
       " Kentucky                616\n",
       " Louisiana               586\n",
       " Maine                   499\n",
       " Maryland                 52\n",
       " Massachusetts           551\n",
       " Michigan                495\n",
       " Minnesota               651\n",
       " Mississippi             607\n",
       " Missouri                631\n",
       " Montana                 591\n",
       " Nebraska                625\n",
       " Nevada                  553\n",
       " New Hampshire           520\n",
       " New Jersey              526\n",
       " New Mexico              561\n",
       " New York                523\n",
       " North Carolina          535\n",
       " North Dakota            621\n",
       " Ohio                    570\n",
       " Oklahoma                517\n",
       " Oregon                  548\n",
       " Pennsylvania            531\n",
       " Rhode Island            524\n",
       " South Carolina          521\n",
       " South Dakota            603\n",
       " Tennessee               604\n",
       " Texas                   507\n",
       " Utah                    614\n",
       " Vermont                 551\n",
       " Virginia                541\n",
       " Washington              534\n",
       " West Virginia           528\n",
       " Wisconsin               649\n",
       " Wyoming                 604\n",
       " Name: Math, dtype: int64,\n",
       " 'Total': State\n",
       " Alabama                 1165\n",
       " Alaska                  1080\n",
       " Arizona                 1116\n",
       " Arkansas                1208\n",
       " California              1055\n",
       " Colorado                1201\n",
       " Connecticut             1041\n",
       " Delaware                 996\n",
       " District of Columbia     950\n",
       " Florida                 1017\n",
       " Georgia                 1050\n",
       " Hawaii                  1085\n",
       " Idaho                   1005\n",
       " Illinois                1115\n",
       " Indiana                 1074\n",
       " Iowa                    1275\n",
       " Kansas                  1260\n",
       " Kentucky                1247\n",
       " Louisiana               1198\n",
       " Maine                   1012\n",
       " Maryland                1060\n",
       " Massachusetts           1107\n",
       " Michigan                1005\n",
       " Minnesota               1295\n",
       " Mississippi             1242\n",
       " Missouri                1271\n",
       " Montana                 1196\n",
       " Nebraska                1253\n",
       " Nevada                  1116\n",
       " New Hampshire           1052\n",
       " New Jersey              1056\n",
       " New Mexico              1138\n",
       " New York                1052\n",
       " North Carolina          1081\n",
       " North Dakota            1256\n",
       " Ohio                    1149\n",
       " Oklahoma                1047\n",
       " Oregon                  1108\n",
       " Pennsylvania            1071\n",
       " Rhode Island            1062\n",
       " South Carolina          1064\n",
       " South Dakota            1216\n",
       " Tennessee               1228\n",
       " Texas                   1020\n",
       " Utah                    1238\n",
       " Vermont                 1114\n",
       " Virginia                1102\n",
       " Washington              1075\n",
       " West Virginia           1086\n",
       " Wisconsin               1291\n",
       " Wyoming                 1230\n",
       " Name: Total, dtype: int64}"
      ]
     },
     "execution_count": 765,
     "metadata": {},
     "output_type": "execute_result"
    }
   ],
   "source": [
    "\n",
    "new_dict =  {key: value for (key, value) in SAT.items()}\n",
    "#This has created a new dictionary but not sure if its the right one haha\n",
    "\n",
    "new_dict"
   ]
  },
  {
   "cell_type": "markdown",
   "metadata": {},
   "source": [
    "##### 9. Merge the dataframes on the state column."
   ]
  },
  {
   "cell_type": "code",
   "execution_count": 718,
   "metadata": {},
   "outputs": [
    {
     "data": {
      "text/plain": [
       "<bound method NDFrame.head of                       Participation  English  Math  Reading  Science  \\\n",
       "Alabama                       100.0     18.9  18.4     19.7     19.4   \n",
       "Alaska                         65.0     18.7  19.8     20.4     19.9   \n",
       "Arizona                        62.0     18.6  19.8     20.1     19.8   \n",
       "Arkansas                      100.0     18.9  19.0     19.7     19.5   \n",
       "California                     31.0     22.5  22.7     23.1     22.2   \n",
       "Colorado                      100.0     20.1  20.3     21.2     20.9   \n",
       "Connecticut                    31.0     25.5  24.6     25.6     24.6   \n",
       "Delaware                       18.0     24.1  23.4     24.8     23.6   \n",
       "District of Columbia           32.0     24.4  23.5     24.9     23.5   \n",
       "Florida                        73.0     19.0  19.4     21.0     19.4   \n",
       "Georgia                        55.0     21.0  20.9     22.0     21.3   \n",
       "Hawaii                         90.0     17.8  19.2     19.2     19.3   \n",
       "Idaho                          38.0     21.9  21.8     23.0     22.1   \n",
       "Illinois                       93.0     21.0  21.2     21.6     21.3   \n",
       "Indiana                        35.0     22.0  22.4     23.2     22.3   \n",
       "Iowa                           67.0     21.2  21.3     22.6     22.1   \n",
       "Kansas                         73.0     21.1  21.3     22.3     21.7   \n",
       "Kentucky                      100.0     19.6  19.4     20.5     20.1   \n",
       "Louisiana                     100.0     19.4  18.8     19.8     19.6   \n",
       "Maine                           8.0     24.2  24.0     24.8     23.7   \n",
       "Maryland                       28.0     23.3  23.1     24.2      2.3   \n",
       "Massachusetts                  29.0     25.4  25.3     25.9     24.7   \n",
       "Michigan                       29.0     24.1  23.7     24.5     23.8   \n",
       "Minnesota                     100.0     20.4  21.5     21.8     21.6   \n",
       "Mississippi                   100.0     18.2  18.1     18.8     18.8   \n",
       "Missouri                      100.0     19.8  19.9     20.8     20.5   \n",
       "Montana                       100.0     19.0  20.2     21.0     20.5   \n",
       "National                       60.0     20.3  20.7     21.4     21.0   \n",
       "Nebraska                       84.0     20.9  20.9     21.9     21.5   \n",
       "Nevada                        100.0     16.3  18.0     18.1     18.2   \n",
       "New Hampshire                  18.0     25.4  25.1     26.0     24.9   \n",
       "New Jersey                     34.0     23.8  23.8     24.1     23.2   \n",
       "New Mexico                     66.0     18.6  19.4     20.4     20.0   \n",
       "New York                       31.0     23.8  24.0     24.6     23.9   \n",
       "North Carolina                100.0     17.8  19.3     19.6     19.3   \n",
       "North Dakota                   98.0     19.0  20.4     20.5     20.6   \n",
       "Ohio                           75.0     21.2  21.6     22.5     22.0   \n",
       "Oklahoma                      100.0     18.5  18.8     20.1     19.6   \n",
       "Oregon                         40.0     21.2  21.5     22.4     21.7   \n",
       "Pennsylvania                   23.0     23.4  23.4     24.2     23.3   \n",
       "Rhode Island                   21.0     24.0  23.3     24.7     23.4   \n",
       "South Carolina                100.0     17.5  18.6     19.1     18.9   \n",
       "South Dakota                   80.0     20.7  21.5     22.3     22.0   \n",
       "Tennessee                     100.0     19.5  19.2     20.1     19.9   \n",
       "Texas                          45.0     19.5  20.7     21.1     20.9   \n",
       "Utah                          100.0     19.5  19.9     20.8     20.6   \n",
       "Vermont                        29.0     23.3  23.1     24.4     23.2   \n",
       "Virginia                       29.0     23.5  23.3     24.6     23.5   \n",
       "Washington                     29.0     20.9  21.9     22.1     22.0   \n",
       "West Virginia                  69.0     20.0  19.4     21.2     20.5   \n",
       "Wisconsin                     100.0     19.7  20.4     20.6     20.9   \n",
       "Wyoming                       100.0     19.4  19.8     20.8     20.6   \n",
       "\n",
       "                      Composite  Participation  \\\n",
       "Alabama                    19.2            5.0   \n",
       "Alaska                     19.8           38.0   \n",
       "Arizona                    19.7           30.0   \n",
       "Arkansas                   19.4            3.0   \n",
       "California                 22.8           53.0   \n",
       "Colorado                   20.8           11.0   \n",
       "Connecticut                25.2          100.0   \n",
       "Delaware                   24.1          100.0   \n",
       "District of Columbia       24.2          100.0   \n",
       "Florida                    19.8           83.0   \n",
       "Georgia                    21.4           61.0   \n",
       "Hawaii                     19.0           55.0   \n",
       "Idaho                      22.3           93.0   \n",
       "Illinois                   21.4            9.0   \n",
       "Indiana                    22.6           63.0   \n",
       "Iowa                       21.9            2.0   \n",
       "Kansas                     21.7            4.0   \n",
       "Kentucky                   20.0            4.0   \n",
       "Louisiana                  19.5            4.0   \n",
       "Maine                      24.3           95.0   \n",
       "Maryland                   23.6           69.0   \n",
       "Massachusetts              25.4           76.0   \n",
       "Michigan                   24.1          100.0   \n",
       "Minnesota                  21.5            3.0   \n",
       "Mississippi                18.6            2.0   \n",
       "Missouri                   20.4            3.0   \n",
       "Montana                    20.3           10.0   \n",
       "National                   21.0            NaN   \n",
       "Nebraska                   21.4            3.0   \n",
       "Nevada                     17.8           26.0   \n",
       "New Hampshire              25.5           96.0   \n",
       "New Jersey                 23.9           70.0   \n",
       "New Mexico                 19.7           11.0   \n",
       "New York                   24.2           67.0   \n",
       "North Carolina             19.1           49.0   \n",
       "North Dakota               20.3            2.0   \n",
       "Ohio                       22.0           12.0   \n",
       "Oklahoma                   19.4            7.0   \n",
       "Oregon                     21.8           43.0   \n",
       "Pennsylvania               23.7           65.0   \n",
       "Rhode Island               24.0           71.0   \n",
       "South Carolina             18.7           50.0   \n",
       "South Dakota               21.8            3.0   \n",
       "Tennessee                  19.8            5.0   \n",
       "Texas                      20.7           62.0   \n",
       "Utah                       20.3            3.0   \n",
       "Vermont                    23.6           60.0   \n",
       "Virginia                   23.8           65.0   \n",
       "Washington                 21.9           64.0   \n",
       "West Virginia              20.4           14.0   \n",
       "Wisconsin                  20.5            3.0   \n",
       "Wyoming                    20.2            3.0   \n",
       "\n",
       "                      Evidence-Based Reading and Writing   Math   Total  \n",
       "Alabama                                            593.0  572.0  1165.0  \n",
       "Alaska                                             547.0  533.0  1080.0  \n",
       "Arizona                                            563.0  553.0  1116.0  \n",
       "Arkansas                                           614.0  594.0  1208.0  \n",
       "California                                         531.0  524.0  1055.0  \n",
       "Colorado                                           606.0  595.0  1201.0  \n",
       "Connecticut                                        530.0  512.0  1041.0  \n",
       "Delaware                                           503.0  492.0   996.0  \n",
       "District of Columbia                               482.0  468.0   950.0  \n",
       "Florida                                            520.0  497.0  1017.0  \n",
       "Georgia                                            535.0  515.0  1050.0  \n",
       "Hawaii                                             544.0  541.0  1085.0  \n",
       "Idaho                                              513.0  493.0  1005.0  \n",
       "Illinois                                           559.0  556.0  1115.0  \n",
       "Indiana                                            542.0  532.0  1074.0  \n",
       "Iowa                                               641.0  635.0  1275.0  \n",
       "Kansas                                             632.0  628.0  1260.0  \n",
       "Kentucky                                           631.0  616.0  1247.0  \n",
       "Louisiana                                          611.0  586.0  1198.0  \n",
       "Maine                                              513.0  499.0  1012.0  \n",
       "Maryland                                           536.0   52.0  1060.0  \n",
       "Massachusetts                                      555.0  551.0  1107.0  \n",
       "Michigan                                           509.0  495.0  1005.0  \n",
       "Minnesota                                          644.0  651.0  1295.0  \n",
       "Mississippi                                        634.0  607.0  1242.0  \n",
       "Missouri                                           640.0  631.0  1271.0  \n",
       "Montana                                            605.0  591.0  1196.0  \n",
       "National                                             NaN    NaN     NaN  \n",
       "Nebraska                                           629.0  625.0  1253.0  \n",
       "Nevada                                             563.0  553.0  1116.0  \n",
       "New Hampshire                                      532.0  520.0  1052.0  \n",
       "New Jersey                                         530.0  526.0  1056.0  \n",
       "New Mexico                                         577.0  561.0  1138.0  \n",
       "New York                                           528.0  523.0  1052.0  \n",
       "North Carolina                                     546.0  535.0  1081.0  \n",
       "North Dakota                                       635.0  621.0  1256.0  \n",
       "Ohio                                               578.0  570.0  1149.0  \n",
       "Oklahoma                                           530.0  517.0  1047.0  \n",
       "Oregon                                             560.0  548.0  1108.0  \n",
       "Pennsylvania                                       540.0  531.0  1071.0  \n",
       "Rhode Island                                       539.0  524.0  1062.0  \n",
       "South Carolina                                     543.0  521.0  1064.0  \n",
       "South Dakota                                       612.0  603.0  1216.0  \n",
       "Tennessee                                          623.0  604.0  1228.0  \n",
       "Texas                                              513.0  507.0  1020.0  \n",
       "Utah                                               624.0  614.0  1238.0  \n",
       "Vermont                                            562.0  551.0  1114.0  \n",
       "Virginia                                           561.0  541.0  1102.0  \n",
       "Washington                                         541.0  534.0  1075.0  \n",
       "West Virginia                                      558.0  528.0  1086.0  \n",
       "Wisconsin                                          642.0  649.0  1291.0  \n",
       "Wyoming                                            626.0  604.0  1230.0  >"
      ]
     },
     "execution_count": 718,
     "metadata": {},
     "output_type": "execute_result"
    }
   ],
   "source": [
    "frames = [ACT, SAT]\n",
    "df = pd.concat(frames, axis =1, sort = True)\n",
    "df.head"
   ]
  },
  {
   "cell_type": "markdown",
   "metadata": {},
   "source": [
    "##### 10. Change the names of the columns so you can distinguish between the SAT columns and the ACT columns."
   ]
  },
  {
   "cell_type": "code",
   "execution_count": 719,
   "metadata": {},
   "outputs": [],
   "source": [
    "# new_columns_dict = {\n",
    "#         'Participation':'ACT_Participation',\n",
    "#         'English':'ACT_English',\n",
    "#         'Evidence-Based Reading and Writing':'SAT_EBRW',\n",
    "#         'Math':'ACT_Math',\n",
    "#         'Reading':'ACT_Reading',\n",
    "#         'Science':'ACT_Science',\n",
    "#         'Composite':'ACT_Composite',\n",
    "#         'Participation':'SAT_Participation',\n",
    "#         'Evidence-Based Reading and Writing':'SAT_EBRW',\n",
    "#         'Math':'SAT_Math',\n",
    "#         'Total':'SAT_Total',\n",
    "#     }\n",
    "\n",
    "new_columns_list = ['ACT_Participation', 'ACT_English', 'ACT_Math',\n",
    "       'ACT_Reading', 'ACT_Science', 'ACT_Composite',\n",
    "       'SAT_Participation', 'SAT_EBRW', 'SAT_Math', 'SAT_Total',\n",
    "       ]"
   ]
  },
  {
   "cell_type": "code",
   "execution_count": 720,
   "metadata": {},
   "outputs": [
    {
     "data": {
      "text/html": [
       "<div>\n",
       "<style scoped>\n",
       "    .dataframe tbody tr th:only-of-type {\n",
       "        vertical-align: middle;\n",
       "    }\n",
       "\n",
       "    .dataframe tbody tr th {\n",
       "        vertical-align: top;\n",
       "    }\n",
       "\n",
       "    .dataframe thead th {\n",
       "        text-align: right;\n",
       "    }\n",
       "</style>\n",
       "<table border=\"1\" class=\"dataframe\">\n",
       "  <thead>\n",
       "    <tr style=\"text-align: right;\">\n",
       "      <th></th>\n",
       "      <th>ACT_Participation</th>\n",
       "      <th>ACT_English</th>\n",
       "      <th>ACT_Math</th>\n",
       "      <th>ACT_Reading</th>\n",
       "      <th>ACT_Science</th>\n",
       "      <th>ACT_Composite</th>\n",
       "      <th>SAT_Participation</th>\n",
       "      <th>SAT_EBRW</th>\n",
       "      <th>SAT_Math</th>\n",
       "      <th>SAT_Total</th>\n",
       "    </tr>\n",
       "  </thead>\n",
       "  <tbody>\n",
       "    <tr>\n",
       "      <th>Alabama</th>\n",
       "      <td>100.0</td>\n",
       "      <td>18.9</td>\n",
       "      <td>18.4</td>\n",
       "      <td>19.7</td>\n",
       "      <td>19.4</td>\n",
       "      <td>19.2</td>\n",
       "      <td>5.0</td>\n",
       "      <td>593.0</td>\n",
       "      <td>572.0</td>\n",
       "      <td>1165.0</td>\n",
       "    </tr>\n",
       "    <tr>\n",
       "      <th>Alaska</th>\n",
       "      <td>65.0</td>\n",
       "      <td>18.7</td>\n",
       "      <td>19.8</td>\n",
       "      <td>20.4</td>\n",
       "      <td>19.9</td>\n",
       "      <td>19.8</td>\n",
       "      <td>38.0</td>\n",
       "      <td>547.0</td>\n",
       "      <td>533.0</td>\n",
       "      <td>1080.0</td>\n",
       "    </tr>\n",
       "    <tr>\n",
       "      <th>Arizona</th>\n",
       "      <td>62.0</td>\n",
       "      <td>18.6</td>\n",
       "      <td>19.8</td>\n",
       "      <td>20.1</td>\n",
       "      <td>19.8</td>\n",
       "      <td>19.7</td>\n",
       "      <td>30.0</td>\n",
       "      <td>563.0</td>\n",
       "      <td>553.0</td>\n",
       "      <td>1116.0</td>\n",
       "    </tr>\n",
       "    <tr>\n",
       "      <th>Arkansas</th>\n",
       "      <td>100.0</td>\n",
       "      <td>18.9</td>\n",
       "      <td>19.0</td>\n",
       "      <td>19.7</td>\n",
       "      <td>19.5</td>\n",
       "      <td>19.4</td>\n",
       "      <td>3.0</td>\n",
       "      <td>614.0</td>\n",
       "      <td>594.0</td>\n",
       "      <td>1208.0</td>\n",
       "    </tr>\n",
       "    <tr>\n",
       "      <th>California</th>\n",
       "      <td>31.0</td>\n",
       "      <td>22.5</td>\n",
       "      <td>22.7</td>\n",
       "      <td>23.1</td>\n",
       "      <td>22.2</td>\n",
       "      <td>22.8</td>\n",
       "      <td>53.0</td>\n",
       "      <td>531.0</td>\n",
       "      <td>524.0</td>\n",
       "      <td>1055.0</td>\n",
       "    </tr>\n",
       "    <tr>\n",
       "      <th>Colorado</th>\n",
       "      <td>100.0</td>\n",
       "      <td>20.1</td>\n",
       "      <td>20.3</td>\n",
       "      <td>21.2</td>\n",
       "      <td>20.9</td>\n",
       "      <td>20.8</td>\n",
       "      <td>11.0</td>\n",
       "      <td>606.0</td>\n",
       "      <td>595.0</td>\n",
       "      <td>1201.0</td>\n",
       "    </tr>\n",
       "    <tr>\n",
       "      <th>Connecticut</th>\n",
       "      <td>31.0</td>\n",
       "      <td>25.5</td>\n",
       "      <td>24.6</td>\n",
       "      <td>25.6</td>\n",
       "      <td>24.6</td>\n",
       "      <td>25.2</td>\n",
       "      <td>100.0</td>\n",
       "      <td>530.0</td>\n",
       "      <td>512.0</td>\n",
       "      <td>1041.0</td>\n",
       "    </tr>\n",
       "    <tr>\n",
       "      <th>Delaware</th>\n",
       "      <td>18.0</td>\n",
       "      <td>24.1</td>\n",
       "      <td>23.4</td>\n",
       "      <td>24.8</td>\n",
       "      <td>23.6</td>\n",
       "      <td>24.1</td>\n",
       "      <td>100.0</td>\n",
       "      <td>503.0</td>\n",
       "      <td>492.0</td>\n",
       "      <td>996.0</td>\n",
       "    </tr>\n",
       "    <tr>\n",
       "      <th>District of Columbia</th>\n",
       "      <td>32.0</td>\n",
       "      <td>24.4</td>\n",
       "      <td>23.5</td>\n",
       "      <td>24.9</td>\n",
       "      <td>23.5</td>\n",
       "      <td>24.2</td>\n",
       "      <td>100.0</td>\n",
       "      <td>482.0</td>\n",
       "      <td>468.0</td>\n",
       "      <td>950.0</td>\n",
       "    </tr>\n",
       "    <tr>\n",
       "      <th>Florida</th>\n",
       "      <td>73.0</td>\n",
       "      <td>19.0</td>\n",
       "      <td>19.4</td>\n",
       "      <td>21.0</td>\n",
       "      <td>19.4</td>\n",
       "      <td>19.8</td>\n",
       "      <td>83.0</td>\n",
       "      <td>520.0</td>\n",
       "      <td>497.0</td>\n",
       "      <td>1017.0</td>\n",
       "    </tr>\n",
       "    <tr>\n",
       "      <th>Georgia</th>\n",
       "      <td>55.0</td>\n",
       "      <td>21.0</td>\n",
       "      <td>20.9</td>\n",
       "      <td>22.0</td>\n",
       "      <td>21.3</td>\n",
       "      <td>21.4</td>\n",
       "      <td>61.0</td>\n",
       "      <td>535.0</td>\n",
       "      <td>515.0</td>\n",
       "      <td>1050.0</td>\n",
       "    </tr>\n",
       "    <tr>\n",
       "      <th>Hawaii</th>\n",
       "      <td>90.0</td>\n",
       "      <td>17.8</td>\n",
       "      <td>19.2</td>\n",
       "      <td>19.2</td>\n",
       "      <td>19.3</td>\n",
       "      <td>19.0</td>\n",
       "      <td>55.0</td>\n",
       "      <td>544.0</td>\n",
       "      <td>541.0</td>\n",
       "      <td>1085.0</td>\n",
       "    </tr>\n",
       "    <tr>\n",
       "      <th>Idaho</th>\n",
       "      <td>38.0</td>\n",
       "      <td>21.9</td>\n",
       "      <td>21.8</td>\n",
       "      <td>23.0</td>\n",
       "      <td>22.1</td>\n",
       "      <td>22.3</td>\n",
       "      <td>93.0</td>\n",
       "      <td>513.0</td>\n",
       "      <td>493.0</td>\n",
       "      <td>1005.0</td>\n",
       "    </tr>\n",
       "    <tr>\n",
       "      <th>Illinois</th>\n",
       "      <td>93.0</td>\n",
       "      <td>21.0</td>\n",
       "      <td>21.2</td>\n",
       "      <td>21.6</td>\n",
       "      <td>21.3</td>\n",
       "      <td>21.4</td>\n",
       "      <td>9.0</td>\n",
       "      <td>559.0</td>\n",
       "      <td>556.0</td>\n",
       "      <td>1115.0</td>\n",
       "    </tr>\n",
       "    <tr>\n",
       "      <th>Indiana</th>\n",
       "      <td>35.0</td>\n",
       "      <td>22.0</td>\n",
       "      <td>22.4</td>\n",
       "      <td>23.2</td>\n",
       "      <td>22.3</td>\n",
       "      <td>22.6</td>\n",
       "      <td>63.0</td>\n",
       "      <td>542.0</td>\n",
       "      <td>532.0</td>\n",
       "      <td>1074.0</td>\n",
       "    </tr>\n",
       "    <tr>\n",
       "      <th>Iowa</th>\n",
       "      <td>67.0</td>\n",
       "      <td>21.2</td>\n",
       "      <td>21.3</td>\n",
       "      <td>22.6</td>\n",
       "      <td>22.1</td>\n",
       "      <td>21.9</td>\n",
       "      <td>2.0</td>\n",
       "      <td>641.0</td>\n",
       "      <td>635.0</td>\n",
       "      <td>1275.0</td>\n",
       "    </tr>\n",
       "    <tr>\n",
       "      <th>Kansas</th>\n",
       "      <td>73.0</td>\n",
       "      <td>21.1</td>\n",
       "      <td>21.3</td>\n",
       "      <td>22.3</td>\n",
       "      <td>21.7</td>\n",
       "      <td>21.7</td>\n",
       "      <td>4.0</td>\n",
       "      <td>632.0</td>\n",
       "      <td>628.0</td>\n",
       "      <td>1260.0</td>\n",
       "    </tr>\n",
       "    <tr>\n",
       "      <th>Kentucky</th>\n",
       "      <td>100.0</td>\n",
       "      <td>19.6</td>\n",
       "      <td>19.4</td>\n",
       "      <td>20.5</td>\n",
       "      <td>20.1</td>\n",
       "      <td>20.0</td>\n",
       "      <td>4.0</td>\n",
       "      <td>631.0</td>\n",
       "      <td>616.0</td>\n",
       "      <td>1247.0</td>\n",
       "    </tr>\n",
       "    <tr>\n",
       "      <th>Louisiana</th>\n",
       "      <td>100.0</td>\n",
       "      <td>19.4</td>\n",
       "      <td>18.8</td>\n",
       "      <td>19.8</td>\n",
       "      <td>19.6</td>\n",
       "      <td>19.5</td>\n",
       "      <td>4.0</td>\n",
       "      <td>611.0</td>\n",
       "      <td>586.0</td>\n",
       "      <td>1198.0</td>\n",
       "    </tr>\n",
       "    <tr>\n",
       "      <th>Maine</th>\n",
       "      <td>8.0</td>\n",
       "      <td>24.2</td>\n",
       "      <td>24.0</td>\n",
       "      <td>24.8</td>\n",
       "      <td>23.7</td>\n",
       "      <td>24.3</td>\n",
       "      <td>95.0</td>\n",
       "      <td>513.0</td>\n",
       "      <td>499.0</td>\n",
       "      <td>1012.0</td>\n",
       "    </tr>\n",
       "    <tr>\n",
       "      <th>Maryland</th>\n",
       "      <td>28.0</td>\n",
       "      <td>23.3</td>\n",
       "      <td>23.1</td>\n",
       "      <td>24.2</td>\n",
       "      <td>2.3</td>\n",
       "      <td>23.6</td>\n",
       "      <td>69.0</td>\n",
       "      <td>536.0</td>\n",
       "      <td>52.0</td>\n",
       "      <td>1060.0</td>\n",
       "    </tr>\n",
       "    <tr>\n",
       "      <th>Massachusetts</th>\n",
       "      <td>29.0</td>\n",
       "      <td>25.4</td>\n",
       "      <td>25.3</td>\n",
       "      <td>25.9</td>\n",
       "      <td>24.7</td>\n",
       "      <td>25.4</td>\n",
       "      <td>76.0</td>\n",
       "      <td>555.0</td>\n",
       "      <td>551.0</td>\n",
       "      <td>1107.0</td>\n",
       "    </tr>\n",
       "    <tr>\n",
       "      <th>Michigan</th>\n",
       "      <td>29.0</td>\n",
       "      <td>24.1</td>\n",
       "      <td>23.7</td>\n",
       "      <td>24.5</td>\n",
       "      <td>23.8</td>\n",
       "      <td>24.1</td>\n",
       "      <td>100.0</td>\n",
       "      <td>509.0</td>\n",
       "      <td>495.0</td>\n",
       "      <td>1005.0</td>\n",
       "    </tr>\n",
       "    <tr>\n",
       "      <th>Minnesota</th>\n",
       "      <td>100.0</td>\n",
       "      <td>20.4</td>\n",
       "      <td>21.5</td>\n",
       "      <td>21.8</td>\n",
       "      <td>21.6</td>\n",
       "      <td>21.5</td>\n",
       "      <td>3.0</td>\n",
       "      <td>644.0</td>\n",
       "      <td>651.0</td>\n",
       "      <td>1295.0</td>\n",
       "    </tr>\n",
       "    <tr>\n",
       "      <th>Mississippi</th>\n",
       "      <td>100.0</td>\n",
       "      <td>18.2</td>\n",
       "      <td>18.1</td>\n",
       "      <td>18.8</td>\n",
       "      <td>18.8</td>\n",
       "      <td>18.6</td>\n",
       "      <td>2.0</td>\n",
       "      <td>634.0</td>\n",
       "      <td>607.0</td>\n",
       "      <td>1242.0</td>\n",
       "    </tr>\n",
       "    <tr>\n",
       "      <th>Missouri</th>\n",
       "      <td>100.0</td>\n",
       "      <td>19.8</td>\n",
       "      <td>19.9</td>\n",
       "      <td>20.8</td>\n",
       "      <td>20.5</td>\n",
       "      <td>20.4</td>\n",
       "      <td>3.0</td>\n",
       "      <td>640.0</td>\n",
       "      <td>631.0</td>\n",
       "      <td>1271.0</td>\n",
       "    </tr>\n",
       "    <tr>\n",
       "      <th>Montana</th>\n",
       "      <td>100.0</td>\n",
       "      <td>19.0</td>\n",
       "      <td>20.2</td>\n",
       "      <td>21.0</td>\n",
       "      <td>20.5</td>\n",
       "      <td>20.3</td>\n",
       "      <td>10.0</td>\n",
       "      <td>605.0</td>\n",
       "      <td>591.0</td>\n",
       "      <td>1196.0</td>\n",
       "    </tr>\n",
       "    <tr>\n",
       "      <th>National</th>\n",
       "      <td>60.0</td>\n",
       "      <td>20.3</td>\n",
       "      <td>20.7</td>\n",
       "      <td>21.4</td>\n",
       "      <td>21.0</td>\n",
       "      <td>21.0</td>\n",
       "      <td>NaN</td>\n",
       "      <td>NaN</td>\n",
       "      <td>NaN</td>\n",
       "      <td>NaN</td>\n",
       "    </tr>\n",
       "    <tr>\n",
       "      <th>Nebraska</th>\n",
       "      <td>84.0</td>\n",
       "      <td>20.9</td>\n",
       "      <td>20.9</td>\n",
       "      <td>21.9</td>\n",
       "      <td>21.5</td>\n",
       "      <td>21.4</td>\n",
       "      <td>3.0</td>\n",
       "      <td>629.0</td>\n",
       "      <td>625.0</td>\n",
       "      <td>1253.0</td>\n",
       "    </tr>\n",
       "    <tr>\n",
       "      <th>Nevada</th>\n",
       "      <td>100.0</td>\n",
       "      <td>16.3</td>\n",
       "      <td>18.0</td>\n",
       "      <td>18.1</td>\n",
       "      <td>18.2</td>\n",
       "      <td>17.8</td>\n",
       "      <td>26.0</td>\n",
       "      <td>563.0</td>\n",
       "      <td>553.0</td>\n",
       "      <td>1116.0</td>\n",
       "    </tr>\n",
       "    <tr>\n",
       "      <th>New Hampshire</th>\n",
       "      <td>18.0</td>\n",
       "      <td>25.4</td>\n",
       "      <td>25.1</td>\n",
       "      <td>26.0</td>\n",
       "      <td>24.9</td>\n",
       "      <td>25.5</td>\n",
       "      <td>96.0</td>\n",
       "      <td>532.0</td>\n",
       "      <td>520.0</td>\n",
       "      <td>1052.0</td>\n",
       "    </tr>\n",
       "    <tr>\n",
       "      <th>New Jersey</th>\n",
       "      <td>34.0</td>\n",
       "      <td>23.8</td>\n",
       "      <td>23.8</td>\n",
       "      <td>24.1</td>\n",
       "      <td>23.2</td>\n",
       "      <td>23.9</td>\n",
       "      <td>70.0</td>\n",
       "      <td>530.0</td>\n",
       "      <td>526.0</td>\n",
       "      <td>1056.0</td>\n",
       "    </tr>\n",
       "    <tr>\n",
       "      <th>New Mexico</th>\n",
       "      <td>66.0</td>\n",
       "      <td>18.6</td>\n",
       "      <td>19.4</td>\n",
       "      <td>20.4</td>\n",
       "      <td>20.0</td>\n",
       "      <td>19.7</td>\n",
       "      <td>11.0</td>\n",
       "      <td>577.0</td>\n",
       "      <td>561.0</td>\n",
       "      <td>1138.0</td>\n",
       "    </tr>\n",
       "    <tr>\n",
       "      <th>New York</th>\n",
       "      <td>31.0</td>\n",
       "      <td>23.8</td>\n",
       "      <td>24.0</td>\n",
       "      <td>24.6</td>\n",
       "      <td>23.9</td>\n",
       "      <td>24.2</td>\n",
       "      <td>67.0</td>\n",
       "      <td>528.0</td>\n",
       "      <td>523.0</td>\n",
       "      <td>1052.0</td>\n",
       "    </tr>\n",
       "    <tr>\n",
       "      <th>North Carolina</th>\n",
       "      <td>100.0</td>\n",
       "      <td>17.8</td>\n",
       "      <td>19.3</td>\n",
       "      <td>19.6</td>\n",
       "      <td>19.3</td>\n",
       "      <td>19.1</td>\n",
       "      <td>49.0</td>\n",
       "      <td>546.0</td>\n",
       "      <td>535.0</td>\n",
       "      <td>1081.0</td>\n",
       "    </tr>\n",
       "    <tr>\n",
       "      <th>North Dakota</th>\n",
       "      <td>98.0</td>\n",
       "      <td>19.0</td>\n",
       "      <td>20.4</td>\n",
       "      <td>20.5</td>\n",
       "      <td>20.6</td>\n",
       "      <td>20.3</td>\n",
       "      <td>2.0</td>\n",
       "      <td>635.0</td>\n",
       "      <td>621.0</td>\n",
       "      <td>1256.0</td>\n",
       "    </tr>\n",
       "    <tr>\n",
       "      <th>Ohio</th>\n",
       "      <td>75.0</td>\n",
       "      <td>21.2</td>\n",
       "      <td>21.6</td>\n",
       "      <td>22.5</td>\n",
       "      <td>22.0</td>\n",
       "      <td>22.0</td>\n",
       "      <td>12.0</td>\n",
       "      <td>578.0</td>\n",
       "      <td>570.0</td>\n",
       "      <td>1149.0</td>\n",
       "    </tr>\n",
       "    <tr>\n",
       "      <th>Oklahoma</th>\n",
       "      <td>100.0</td>\n",
       "      <td>18.5</td>\n",
       "      <td>18.8</td>\n",
       "      <td>20.1</td>\n",
       "      <td>19.6</td>\n",
       "      <td>19.4</td>\n",
       "      <td>7.0</td>\n",
       "      <td>530.0</td>\n",
       "      <td>517.0</td>\n",
       "      <td>1047.0</td>\n",
       "    </tr>\n",
       "    <tr>\n",
       "      <th>Oregon</th>\n",
       "      <td>40.0</td>\n",
       "      <td>21.2</td>\n",
       "      <td>21.5</td>\n",
       "      <td>22.4</td>\n",
       "      <td>21.7</td>\n",
       "      <td>21.8</td>\n",
       "      <td>43.0</td>\n",
       "      <td>560.0</td>\n",
       "      <td>548.0</td>\n",
       "      <td>1108.0</td>\n",
       "    </tr>\n",
       "    <tr>\n",
       "      <th>Pennsylvania</th>\n",
       "      <td>23.0</td>\n",
       "      <td>23.4</td>\n",
       "      <td>23.4</td>\n",
       "      <td>24.2</td>\n",
       "      <td>23.3</td>\n",
       "      <td>23.7</td>\n",
       "      <td>65.0</td>\n",
       "      <td>540.0</td>\n",
       "      <td>531.0</td>\n",
       "      <td>1071.0</td>\n",
       "    </tr>\n",
       "    <tr>\n",
       "      <th>Rhode Island</th>\n",
       "      <td>21.0</td>\n",
       "      <td>24.0</td>\n",
       "      <td>23.3</td>\n",
       "      <td>24.7</td>\n",
       "      <td>23.4</td>\n",
       "      <td>24.0</td>\n",
       "      <td>71.0</td>\n",
       "      <td>539.0</td>\n",
       "      <td>524.0</td>\n",
       "      <td>1062.0</td>\n",
       "    </tr>\n",
       "    <tr>\n",
       "      <th>South Carolina</th>\n",
       "      <td>100.0</td>\n",
       "      <td>17.5</td>\n",
       "      <td>18.6</td>\n",
       "      <td>19.1</td>\n",
       "      <td>18.9</td>\n",
       "      <td>18.7</td>\n",
       "      <td>50.0</td>\n",
       "      <td>543.0</td>\n",
       "      <td>521.0</td>\n",
       "      <td>1064.0</td>\n",
       "    </tr>\n",
       "    <tr>\n",
       "      <th>South Dakota</th>\n",
       "      <td>80.0</td>\n",
       "      <td>20.7</td>\n",
       "      <td>21.5</td>\n",
       "      <td>22.3</td>\n",
       "      <td>22.0</td>\n",
       "      <td>21.8</td>\n",
       "      <td>3.0</td>\n",
       "      <td>612.0</td>\n",
       "      <td>603.0</td>\n",
       "      <td>1216.0</td>\n",
       "    </tr>\n",
       "    <tr>\n",
       "      <th>Tennessee</th>\n",
       "      <td>100.0</td>\n",
       "      <td>19.5</td>\n",
       "      <td>19.2</td>\n",
       "      <td>20.1</td>\n",
       "      <td>19.9</td>\n",
       "      <td>19.8</td>\n",
       "      <td>5.0</td>\n",
       "      <td>623.0</td>\n",
       "      <td>604.0</td>\n",
       "      <td>1228.0</td>\n",
       "    </tr>\n",
       "    <tr>\n",
       "      <th>Texas</th>\n",
       "      <td>45.0</td>\n",
       "      <td>19.5</td>\n",
       "      <td>20.7</td>\n",
       "      <td>21.1</td>\n",
       "      <td>20.9</td>\n",
       "      <td>20.7</td>\n",
       "      <td>62.0</td>\n",
       "      <td>513.0</td>\n",
       "      <td>507.0</td>\n",
       "      <td>1020.0</td>\n",
       "    </tr>\n",
       "    <tr>\n",
       "      <th>Utah</th>\n",
       "      <td>100.0</td>\n",
       "      <td>19.5</td>\n",
       "      <td>19.9</td>\n",
       "      <td>20.8</td>\n",
       "      <td>20.6</td>\n",
       "      <td>20.3</td>\n",
       "      <td>3.0</td>\n",
       "      <td>624.0</td>\n",
       "      <td>614.0</td>\n",
       "      <td>1238.0</td>\n",
       "    </tr>\n",
       "    <tr>\n",
       "      <th>Vermont</th>\n",
       "      <td>29.0</td>\n",
       "      <td>23.3</td>\n",
       "      <td>23.1</td>\n",
       "      <td>24.4</td>\n",
       "      <td>23.2</td>\n",
       "      <td>23.6</td>\n",
       "      <td>60.0</td>\n",
       "      <td>562.0</td>\n",
       "      <td>551.0</td>\n",
       "      <td>1114.0</td>\n",
       "    </tr>\n",
       "    <tr>\n",
       "      <th>Virginia</th>\n",
       "      <td>29.0</td>\n",
       "      <td>23.5</td>\n",
       "      <td>23.3</td>\n",
       "      <td>24.6</td>\n",
       "      <td>23.5</td>\n",
       "      <td>23.8</td>\n",
       "      <td>65.0</td>\n",
       "      <td>561.0</td>\n",
       "      <td>541.0</td>\n",
       "      <td>1102.0</td>\n",
       "    </tr>\n",
       "    <tr>\n",
       "      <th>Washington</th>\n",
       "      <td>29.0</td>\n",
       "      <td>20.9</td>\n",
       "      <td>21.9</td>\n",
       "      <td>22.1</td>\n",
       "      <td>22.0</td>\n",
       "      <td>21.9</td>\n",
       "      <td>64.0</td>\n",
       "      <td>541.0</td>\n",
       "      <td>534.0</td>\n",
       "      <td>1075.0</td>\n",
       "    </tr>\n",
       "    <tr>\n",
       "      <th>West Virginia</th>\n",
       "      <td>69.0</td>\n",
       "      <td>20.0</td>\n",
       "      <td>19.4</td>\n",
       "      <td>21.2</td>\n",
       "      <td>20.5</td>\n",
       "      <td>20.4</td>\n",
       "      <td>14.0</td>\n",
       "      <td>558.0</td>\n",
       "      <td>528.0</td>\n",
       "      <td>1086.0</td>\n",
       "    </tr>\n",
       "    <tr>\n",
       "      <th>Wisconsin</th>\n",
       "      <td>100.0</td>\n",
       "      <td>19.7</td>\n",
       "      <td>20.4</td>\n",
       "      <td>20.6</td>\n",
       "      <td>20.9</td>\n",
       "      <td>20.5</td>\n",
       "      <td>3.0</td>\n",
       "      <td>642.0</td>\n",
       "      <td>649.0</td>\n",
       "      <td>1291.0</td>\n",
       "    </tr>\n",
       "    <tr>\n",
       "      <th>Wyoming</th>\n",
       "      <td>100.0</td>\n",
       "      <td>19.4</td>\n",
       "      <td>19.8</td>\n",
       "      <td>20.8</td>\n",
       "      <td>20.6</td>\n",
       "      <td>20.2</td>\n",
       "      <td>3.0</td>\n",
       "      <td>626.0</td>\n",
       "      <td>604.0</td>\n",
       "      <td>1230.0</td>\n",
       "    </tr>\n",
       "  </tbody>\n",
       "</table>\n",
       "</div>"
      ],
      "text/plain": [
       "                      ACT_Participation  ACT_English  ACT_Math  ACT_Reading  \\\n",
       "Alabama                           100.0         18.9      18.4         19.7   \n",
       "Alaska                             65.0         18.7      19.8         20.4   \n",
       "Arizona                            62.0         18.6      19.8         20.1   \n",
       "Arkansas                          100.0         18.9      19.0         19.7   \n",
       "California                         31.0         22.5      22.7         23.1   \n",
       "Colorado                          100.0         20.1      20.3         21.2   \n",
       "Connecticut                        31.0         25.5      24.6         25.6   \n",
       "Delaware                           18.0         24.1      23.4         24.8   \n",
       "District of Columbia               32.0         24.4      23.5         24.9   \n",
       "Florida                            73.0         19.0      19.4         21.0   \n",
       "Georgia                            55.0         21.0      20.9         22.0   \n",
       "Hawaii                             90.0         17.8      19.2         19.2   \n",
       "Idaho                              38.0         21.9      21.8         23.0   \n",
       "Illinois                           93.0         21.0      21.2         21.6   \n",
       "Indiana                            35.0         22.0      22.4         23.2   \n",
       "Iowa                               67.0         21.2      21.3         22.6   \n",
       "Kansas                             73.0         21.1      21.3         22.3   \n",
       "Kentucky                          100.0         19.6      19.4         20.5   \n",
       "Louisiana                         100.0         19.4      18.8         19.8   \n",
       "Maine                               8.0         24.2      24.0         24.8   \n",
       "Maryland                           28.0         23.3      23.1         24.2   \n",
       "Massachusetts                      29.0         25.4      25.3         25.9   \n",
       "Michigan                           29.0         24.1      23.7         24.5   \n",
       "Minnesota                         100.0         20.4      21.5         21.8   \n",
       "Mississippi                       100.0         18.2      18.1         18.8   \n",
       "Missouri                          100.0         19.8      19.9         20.8   \n",
       "Montana                           100.0         19.0      20.2         21.0   \n",
       "National                           60.0         20.3      20.7         21.4   \n",
       "Nebraska                           84.0         20.9      20.9         21.9   \n",
       "Nevada                            100.0         16.3      18.0         18.1   \n",
       "New Hampshire                      18.0         25.4      25.1         26.0   \n",
       "New Jersey                         34.0         23.8      23.8         24.1   \n",
       "New Mexico                         66.0         18.6      19.4         20.4   \n",
       "New York                           31.0         23.8      24.0         24.6   \n",
       "North Carolina                    100.0         17.8      19.3         19.6   \n",
       "North Dakota                       98.0         19.0      20.4         20.5   \n",
       "Ohio                               75.0         21.2      21.6         22.5   \n",
       "Oklahoma                          100.0         18.5      18.8         20.1   \n",
       "Oregon                             40.0         21.2      21.5         22.4   \n",
       "Pennsylvania                       23.0         23.4      23.4         24.2   \n",
       "Rhode Island                       21.0         24.0      23.3         24.7   \n",
       "South Carolina                    100.0         17.5      18.6         19.1   \n",
       "South Dakota                       80.0         20.7      21.5         22.3   \n",
       "Tennessee                         100.0         19.5      19.2         20.1   \n",
       "Texas                              45.0         19.5      20.7         21.1   \n",
       "Utah                              100.0         19.5      19.9         20.8   \n",
       "Vermont                            29.0         23.3      23.1         24.4   \n",
       "Virginia                           29.0         23.5      23.3         24.6   \n",
       "Washington                         29.0         20.9      21.9         22.1   \n",
       "West Virginia                      69.0         20.0      19.4         21.2   \n",
       "Wisconsin                         100.0         19.7      20.4         20.6   \n",
       "Wyoming                           100.0         19.4      19.8         20.8   \n",
       "\n",
       "                      ACT_Science  ACT_Composite  SAT_Participation  SAT_EBRW  \\\n",
       "Alabama                      19.4           19.2                5.0     593.0   \n",
       "Alaska                       19.9           19.8               38.0     547.0   \n",
       "Arizona                      19.8           19.7               30.0     563.0   \n",
       "Arkansas                     19.5           19.4                3.0     614.0   \n",
       "California                   22.2           22.8               53.0     531.0   \n",
       "Colorado                     20.9           20.8               11.0     606.0   \n",
       "Connecticut                  24.6           25.2              100.0     530.0   \n",
       "Delaware                     23.6           24.1              100.0     503.0   \n",
       "District of Columbia         23.5           24.2              100.0     482.0   \n",
       "Florida                      19.4           19.8               83.0     520.0   \n",
       "Georgia                      21.3           21.4               61.0     535.0   \n",
       "Hawaii                       19.3           19.0               55.0     544.0   \n",
       "Idaho                        22.1           22.3               93.0     513.0   \n",
       "Illinois                     21.3           21.4                9.0     559.0   \n",
       "Indiana                      22.3           22.6               63.0     542.0   \n",
       "Iowa                         22.1           21.9                2.0     641.0   \n",
       "Kansas                       21.7           21.7                4.0     632.0   \n",
       "Kentucky                     20.1           20.0                4.0     631.0   \n",
       "Louisiana                    19.6           19.5                4.0     611.0   \n",
       "Maine                        23.7           24.3               95.0     513.0   \n",
       "Maryland                      2.3           23.6               69.0     536.0   \n",
       "Massachusetts                24.7           25.4               76.0     555.0   \n",
       "Michigan                     23.8           24.1              100.0     509.0   \n",
       "Minnesota                    21.6           21.5                3.0     644.0   \n",
       "Mississippi                  18.8           18.6                2.0     634.0   \n",
       "Missouri                     20.5           20.4                3.0     640.0   \n",
       "Montana                      20.5           20.3               10.0     605.0   \n",
       "National                     21.0           21.0                NaN       NaN   \n",
       "Nebraska                     21.5           21.4                3.0     629.0   \n",
       "Nevada                       18.2           17.8               26.0     563.0   \n",
       "New Hampshire                24.9           25.5               96.0     532.0   \n",
       "New Jersey                   23.2           23.9               70.0     530.0   \n",
       "New Mexico                   20.0           19.7               11.0     577.0   \n",
       "New York                     23.9           24.2               67.0     528.0   \n",
       "North Carolina               19.3           19.1               49.0     546.0   \n",
       "North Dakota                 20.6           20.3                2.0     635.0   \n",
       "Ohio                         22.0           22.0               12.0     578.0   \n",
       "Oklahoma                     19.6           19.4                7.0     530.0   \n",
       "Oregon                       21.7           21.8               43.0     560.0   \n",
       "Pennsylvania                 23.3           23.7               65.0     540.0   \n",
       "Rhode Island                 23.4           24.0               71.0     539.0   \n",
       "South Carolina               18.9           18.7               50.0     543.0   \n",
       "South Dakota                 22.0           21.8                3.0     612.0   \n",
       "Tennessee                    19.9           19.8                5.0     623.0   \n",
       "Texas                        20.9           20.7               62.0     513.0   \n",
       "Utah                         20.6           20.3                3.0     624.0   \n",
       "Vermont                      23.2           23.6               60.0     562.0   \n",
       "Virginia                     23.5           23.8               65.0     561.0   \n",
       "Washington                   22.0           21.9               64.0     541.0   \n",
       "West Virginia                20.5           20.4               14.0     558.0   \n",
       "Wisconsin                    20.9           20.5                3.0     642.0   \n",
       "Wyoming                      20.6           20.2                3.0     626.0   \n",
       "\n",
       "                      SAT_Math  SAT_Total  \n",
       "Alabama                  572.0     1165.0  \n",
       "Alaska                   533.0     1080.0  \n",
       "Arizona                  553.0     1116.0  \n",
       "Arkansas                 594.0     1208.0  \n",
       "California               524.0     1055.0  \n",
       "Colorado                 595.0     1201.0  \n",
       "Connecticut              512.0     1041.0  \n",
       "Delaware                 492.0      996.0  \n",
       "District of Columbia     468.0      950.0  \n",
       "Florida                  497.0     1017.0  \n",
       "Georgia                  515.0     1050.0  \n",
       "Hawaii                   541.0     1085.0  \n",
       "Idaho                    493.0     1005.0  \n",
       "Illinois                 556.0     1115.0  \n",
       "Indiana                  532.0     1074.0  \n",
       "Iowa                     635.0     1275.0  \n",
       "Kansas                   628.0     1260.0  \n",
       "Kentucky                 616.0     1247.0  \n",
       "Louisiana                586.0     1198.0  \n",
       "Maine                    499.0     1012.0  \n",
       "Maryland                  52.0     1060.0  \n",
       "Massachusetts            551.0     1107.0  \n",
       "Michigan                 495.0     1005.0  \n",
       "Minnesota                651.0     1295.0  \n",
       "Mississippi              607.0     1242.0  \n",
       "Missouri                 631.0     1271.0  \n",
       "Montana                  591.0     1196.0  \n",
       "National                   NaN        NaN  \n",
       "Nebraska                 625.0     1253.0  \n",
       "Nevada                   553.0     1116.0  \n",
       "New Hampshire            520.0     1052.0  \n",
       "New Jersey               526.0     1056.0  \n",
       "New Mexico               561.0     1138.0  \n",
       "New York                 523.0     1052.0  \n",
       "North Carolina           535.0     1081.0  \n",
       "North Dakota             621.0     1256.0  \n",
       "Ohio                     570.0     1149.0  \n",
       "Oklahoma                 517.0     1047.0  \n",
       "Oregon                   548.0     1108.0  \n",
       "Pennsylvania             531.0     1071.0  \n",
       "Rhode Island             524.0     1062.0  \n",
       "South Carolina           521.0     1064.0  \n",
       "South Dakota             603.0     1216.0  \n",
       "Tennessee                604.0     1228.0  \n",
       "Texas                    507.0     1020.0  \n",
       "Utah                     614.0     1238.0  \n",
       "Vermont                  551.0     1114.0  \n",
       "Virginia                 541.0     1102.0  \n",
       "Washington               534.0     1075.0  \n",
       "West Virginia            528.0     1086.0  \n",
       "Wisconsin                649.0     1291.0  \n",
       "Wyoming                  604.0     1230.0  "
      ]
     },
     "execution_count": 720,
     "metadata": {},
     "output_type": "execute_result"
    }
   ],
   "source": [
    "df.columns = new_columns_list\n",
    "df"
   ]
  },
  {
   "cell_type": "markdown",
   "metadata": {},
   "source": [
    "##### 11. Print the minimum and maximum of each numeric column in the data frame."
   ]
  },
  {
   "cell_type": "code",
   "execution_count": 721,
   "metadata": {},
   "outputs": [
    {
     "data": {
      "text/plain": [
       "ACT_Participation     100.0\n",
       "ACT_English            25.5\n",
       "ACT_Math               25.3\n",
       "ACT_Reading            26.0\n",
       "ACT_Science            24.9\n",
       "ACT_Composite          25.5\n",
       "SAT_Participation     100.0\n",
       "SAT_EBRW              644.0\n",
       "SAT_Math              651.0\n",
       "SAT_Total            1295.0\n",
       "dtype: float64"
      ]
     },
     "execution_count": 721,
     "metadata": {},
     "output_type": "execute_result"
    }
   ],
   "source": [
    "df.max(axis=0)"
   ]
  },
  {
   "cell_type": "code",
   "execution_count": 722,
   "metadata": {},
   "outputs": [
    {
     "data": {
      "text/plain": [
       "ACT_Participation      8.0\n",
       "ACT_English           16.3\n",
       "ACT_Math              18.0\n",
       "ACT_Reading           18.1\n",
       "ACT_Science            2.3\n",
       "ACT_Composite         17.8\n",
       "SAT_Participation      2.0\n",
       "SAT_EBRW             482.0\n",
       "SAT_Math              52.0\n",
       "SAT_Total            950.0\n",
       "dtype: float64"
      ]
     },
     "execution_count": 722,
     "metadata": {},
     "output_type": "execute_result"
    }
   ],
   "source": [
    "df.min(axis=0)"
   ]
  },
  {
   "cell_type": "markdown",
   "metadata": {},
   "source": [
    "##### 12. Write a function using only list comprehensions, no loops, to compute standard deviation. Using this function, calculate the standard deviation of each numeric column in both data sets. Add these to a list called `sd`.\n",
    "\n",
    "$$\\sigma = \\sqrt{\\frac{1}{n}\\sum_{i=1}^n(x_i - \\mu)^2}$$"
   ]
  },
  {
   "cell_type": "code",
   "execution_count": 723,
   "metadata": {},
   "outputs": [
    {
     "name": "stdout",
     "output_type": "stream",
     "text": [
      "<class 'pandas.core.frame.DataFrame'>\n",
      "Index: 51 entries, Alabama to Wyoming\n",
      "Data columns (total 10 columns):\n",
      "ACT_Participation    51 non-null float64\n",
      "ACT_English          51 non-null float64\n",
      "ACT_Math             51 non-null float64\n",
      "ACT_Reading          51 non-null float64\n",
      "ACT_Science          51 non-null float64\n",
      "ACT_Composite        51 non-null float64\n",
      "SAT_Participation    51 non-null float64\n",
      "SAT_EBRW             51 non-null float64\n",
      "SAT_Math             51 non-null float64\n",
      "SAT_Total            51 non-null float64\n",
      "dtypes: float64(10)\n",
      "memory usage: 4.4+ KB\n"
     ]
    }
   ],
   "source": [
    "df.dropna(subset=['SAT_Participation'], inplace = True)\n",
    "df.info()"
   ]
  },
  {
   "cell_type": "code",
   "execution_count": 724,
   "metadata": {},
   "outputs": [
    {
     "data": {
      "text/plain": [
       "2.000786081581989"
      ]
     },
     "execution_count": 724,
     "metadata": {},
     "output_type": "execute_result"
    }
   ],
   "source": [
    "np.std(df['ACT_Composite'])"
   ]
  },
  {
   "cell_type": "code",
   "execution_count": 725,
   "metadata": {},
   "outputs": [
    {
     "data": {
      "text/plain": [
       "34.92907076664508"
      ]
     },
     "execution_count": 725,
     "metadata": {},
     "output_type": "execute_result"
    }
   ],
   "source": [
    "def calc_std(x):\n",
    "    n = len(x)\n",
    "    mu = np.mean(x)\n",
    "    sd = []\n",
    "    st_dev = (1/n) * sum([((each - mu) ** 2) for each in x])#need to remeber to write this in code very simliar to the way its written in writing\n",
    "    return st_dev ** 0.5  \n",
    "sd.append(calc_std(df['SAT_Participation']))\n",
    "    \n",
    "calc_std(df['SAT_Participation'])"
   ]
  },
  {
   "cell_type": "code",
   "execution_count": 726,
   "metadata": {},
   "outputs": [
    {
     "data": {
      "text/plain": [
       "[31.524950201500726,\n",
       " 2.3095985716418723,\n",
       " 1.9446292295028094,\n",
       " 2.0288771415788838,\n",
       " 3.1206668182509554,\n",
       " 1.9827389384951442,\n",
       " nan,\n",
       " 34.92907076664508,\n",
       " 34.92907076664508,\n",
       " 34.92907076664508,\n",
       " 34.92907076664508]"
      ]
     },
     "execution_count": 726,
     "metadata": {},
     "output_type": "execute_result"
    }
   ],
   "source": [
    "sd"
   ]
  },
  {
   "cell_type": "markdown",
   "metadata": {},
   "source": [
    "## Step 2: Manipulate the dataframe\n"
   ]
  },
  {
   "cell_type": "markdown",
   "metadata": {},
   "source": [
    "##### 13. Turn the list `sd` into a new observation in your dataset."
   ]
  },
  {
   "cell_type": "code",
   "execution_count": 727,
   "metadata": {},
   "outputs": [],
   "source": [
    "# don't"
   ]
  },
  {
   "cell_type": "markdown",
   "metadata": {},
   "source": [
    "##### 14. Sort the dataframe by the values in a numeric column (e.g. observations descending by SAT participation rate)"
   ]
  },
  {
   "cell_type": "code",
   "execution_count": 728,
   "metadata": {},
   "outputs": [],
   "source": [
    "df_1 = df[['SAT_Participation', 'SAT_Total', 'ACT_Participation', 'ACT_Composite']]\n",
    "df_2 = df_1.sort_values('SAT_Participation', ascending=False)"
   ]
  },
  {
   "cell_type": "code",
   "execution_count": 729,
   "metadata": {},
   "outputs": [
    {
     "data": {
      "text/html": [
       "<div>\n",
       "<style scoped>\n",
       "    .dataframe tbody tr th:only-of-type {\n",
       "        vertical-align: middle;\n",
       "    }\n",
       "\n",
       "    .dataframe tbody tr th {\n",
       "        vertical-align: top;\n",
       "    }\n",
       "\n",
       "    .dataframe thead th {\n",
       "        text-align: right;\n",
       "    }\n",
       "</style>\n",
       "<table border=\"1\" class=\"dataframe\">\n",
       "  <thead>\n",
       "    <tr style=\"text-align: right;\">\n",
       "      <th></th>\n",
       "      <th>ACT_Participation</th>\n",
       "      <th>ACT_English</th>\n",
       "      <th>ACT_Math</th>\n",
       "      <th>ACT_Reading</th>\n",
       "      <th>ACT_Science</th>\n",
       "      <th>ACT_Composite</th>\n",
       "      <th>SAT_Participation</th>\n",
       "      <th>SAT_EBRW</th>\n",
       "      <th>SAT_Math</th>\n",
       "      <th>SAT_Total</th>\n",
       "    </tr>\n",
       "  </thead>\n",
       "  <tbody>\n",
       "    <tr>\n",
       "      <th>District of Columbia</th>\n",
       "      <td>32.0</td>\n",
       "      <td>24.4</td>\n",
       "      <td>23.5</td>\n",
       "      <td>24.9</td>\n",
       "      <td>23.5</td>\n",
       "      <td>24.2</td>\n",
       "      <td>100.0</td>\n",
       "      <td>482.0</td>\n",
       "      <td>468.0</td>\n",
       "      <td>950.0</td>\n",
       "    </tr>\n",
       "    <tr>\n",
       "      <th>Michigan</th>\n",
       "      <td>29.0</td>\n",
       "      <td>24.1</td>\n",
       "      <td>23.7</td>\n",
       "      <td>24.5</td>\n",
       "      <td>23.8</td>\n",
       "      <td>24.1</td>\n",
       "      <td>100.0</td>\n",
       "      <td>509.0</td>\n",
       "      <td>495.0</td>\n",
       "      <td>1005.0</td>\n",
       "    </tr>\n",
       "    <tr>\n",
       "      <th>Connecticut</th>\n",
       "      <td>31.0</td>\n",
       "      <td>25.5</td>\n",
       "      <td>24.6</td>\n",
       "      <td>25.6</td>\n",
       "      <td>24.6</td>\n",
       "      <td>25.2</td>\n",
       "      <td>100.0</td>\n",
       "      <td>530.0</td>\n",
       "      <td>512.0</td>\n",
       "      <td>1041.0</td>\n",
       "    </tr>\n",
       "    <tr>\n",
       "      <th>Delaware</th>\n",
       "      <td>18.0</td>\n",
       "      <td>24.1</td>\n",
       "      <td>23.4</td>\n",
       "      <td>24.8</td>\n",
       "      <td>23.6</td>\n",
       "      <td>24.1</td>\n",
       "      <td>100.0</td>\n",
       "      <td>503.0</td>\n",
       "      <td>492.0</td>\n",
       "      <td>996.0</td>\n",
       "    </tr>\n",
       "    <tr>\n",
       "      <th>New Hampshire</th>\n",
       "      <td>18.0</td>\n",
       "      <td>25.4</td>\n",
       "      <td>25.1</td>\n",
       "      <td>26.0</td>\n",
       "      <td>24.9</td>\n",
       "      <td>25.5</td>\n",
       "      <td>96.0</td>\n",
       "      <td>532.0</td>\n",
       "      <td>520.0</td>\n",
       "      <td>1052.0</td>\n",
       "    </tr>\n",
       "    <tr>\n",
       "      <th>Maine</th>\n",
       "      <td>8.0</td>\n",
       "      <td>24.2</td>\n",
       "      <td>24.0</td>\n",
       "      <td>24.8</td>\n",
       "      <td>23.7</td>\n",
       "      <td>24.3</td>\n",
       "      <td>95.0</td>\n",
       "      <td>513.0</td>\n",
       "      <td>499.0</td>\n",
       "      <td>1012.0</td>\n",
       "    </tr>\n",
       "    <tr>\n",
       "      <th>Idaho</th>\n",
       "      <td>38.0</td>\n",
       "      <td>21.9</td>\n",
       "      <td>21.8</td>\n",
       "      <td>23.0</td>\n",
       "      <td>22.1</td>\n",
       "      <td>22.3</td>\n",
       "      <td>93.0</td>\n",
       "      <td>513.0</td>\n",
       "      <td>493.0</td>\n",
       "      <td>1005.0</td>\n",
       "    </tr>\n",
       "    <tr>\n",
       "      <th>Florida</th>\n",
       "      <td>73.0</td>\n",
       "      <td>19.0</td>\n",
       "      <td>19.4</td>\n",
       "      <td>21.0</td>\n",
       "      <td>19.4</td>\n",
       "      <td>19.8</td>\n",
       "      <td>83.0</td>\n",
       "      <td>520.0</td>\n",
       "      <td>497.0</td>\n",
       "      <td>1017.0</td>\n",
       "    </tr>\n",
       "    <tr>\n",
       "      <th>Massachusetts</th>\n",
       "      <td>29.0</td>\n",
       "      <td>25.4</td>\n",
       "      <td>25.3</td>\n",
       "      <td>25.9</td>\n",
       "      <td>24.7</td>\n",
       "      <td>25.4</td>\n",
       "      <td>76.0</td>\n",
       "      <td>555.0</td>\n",
       "      <td>551.0</td>\n",
       "      <td>1107.0</td>\n",
       "    </tr>\n",
       "    <tr>\n",
       "      <th>Rhode Island</th>\n",
       "      <td>21.0</td>\n",
       "      <td>24.0</td>\n",
       "      <td>23.3</td>\n",
       "      <td>24.7</td>\n",
       "      <td>23.4</td>\n",
       "      <td>24.0</td>\n",
       "      <td>71.0</td>\n",
       "      <td>539.0</td>\n",
       "      <td>524.0</td>\n",
       "      <td>1062.0</td>\n",
       "    </tr>\n",
       "    <tr>\n",
       "      <th>New Jersey</th>\n",
       "      <td>34.0</td>\n",
       "      <td>23.8</td>\n",
       "      <td>23.8</td>\n",
       "      <td>24.1</td>\n",
       "      <td>23.2</td>\n",
       "      <td>23.9</td>\n",
       "      <td>70.0</td>\n",
       "      <td>530.0</td>\n",
       "      <td>526.0</td>\n",
       "      <td>1056.0</td>\n",
       "    </tr>\n",
       "    <tr>\n",
       "      <th>Maryland</th>\n",
       "      <td>28.0</td>\n",
       "      <td>23.3</td>\n",
       "      <td>23.1</td>\n",
       "      <td>24.2</td>\n",
       "      <td>2.3</td>\n",
       "      <td>23.6</td>\n",
       "      <td>69.0</td>\n",
       "      <td>536.0</td>\n",
       "      <td>52.0</td>\n",
       "      <td>1060.0</td>\n",
       "    </tr>\n",
       "    <tr>\n",
       "      <th>New York</th>\n",
       "      <td>31.0</td>\n",
       "      <td>23.8</td>\n",
       "      <td>24.0</td>\n",
       "      <td>24.6</td>\n",
       "      <td>23.9</td>\n",
       "      <td>24.2</td>\n",
       "      <td>67.0</td>\n",
       "      <td>528.0</td>\n",
       "      <td>523.0</td>\n",
       "      <td>1052.0</td>\n",
       "    </tr>\n",
       "    <tr>\n",
       "      <th>Virginia</th>\n",
       "      <td>29.0</td>\n",
       "      <td>23.5</td>\n",
       "      <td>23.3</td>\n",
       "      <td>24.6</td>\n",
       "      <td>23.5</td>\n",
       "      <td>23.8</td>\n",
       "      <td>65.0</td>\n",
       "      <td>561.0</td>\n",
       "      <td>541.0</td>\n",
       "      <td>1102.0</td>\n",
       "    </tr>\n",
       "    <tr>\n",
       "      <th>Pennsylvania</th>\n",
       "      <td>23.0</td>\n",
       "      <td>23.4</td>\n",
       "      <td>23.4</td>\n",
       "      <td>24.2</td>\n",
       "      <td>23.3</td>\n",
       "      <td>23.7</td>\n",
       "      <td>65.0</td>\n",
       "      <td>540.0</td>\n",
       "      <td>531.0</td>\n",
       "      <td>1071.0</td>\n",
       "    </tr>\n",
       "    <tr>\n",
       "      <th>Washington</th>\n",
       "      <td>29.0</td>\n",
       "      <td>20.9</td>\n",
       "      <td>21.9</td>\n",
       "      <td>22.1</td>\n",
       "      <td>22.0</td>\n",
       "      <td>21.9</td>\n",
       "      <td>64.0</td>\n",
       "      <td>541.0</td>\n",
       "      <td>534.0</td>\n",
       "      <td>1075.0</td>\n",
       "    </tr>\n",
       "    <tr>\n",
       "      <th>Indiana</th>\n",
       "      <td>35.0</td>\n",
       "      <td>22.0</td>\n",
       "      <td>22.4</td>\n",
       "      <td>23.2</td>\n",
       "      <td>22.3</td>\n",
       "      <td>22.6</td>\n",
       "      <td>63.0</td>\n",
       "      <td>542.0</td>\n",
       "      <td>532.0</td>\n",
       "      <td>1074.0</td>\n",
       "    </tr>\n",
       "    <tr>\n",
       "      <th>Texas</th>\n",
       "      <td>45.0</td>\n",
       "      <td>19.5</td>\n",
       "      <td>20.7</td>\n",
       "      <td>21.1</td>\n",
       "      <td>20.9</td>\n",
       "      <td>20.7</td>\n",
       "      <td>62.0</td>\n",
       "      <td>513.0</td>\n",
       "      <td>507.0</td>\n",
       "      <td>1020.0</td>\n",
       "    </tr>\n",
       "    <tr>\n",
       "      <th>Georgia</th>\n",
       "      <td>55.0</td>\n",
       "      <td>21.0</td>\n",
       "      <td>20.9</td>\n",
       "      <td>22.0</td>\n",
       "      <td>21.3</td>\n",
       "      <td>21.4</td>\n",
       "      <td>61.0</td>\n",
       "      <td>535.0</td>\n",
       "      <td>515.0</td>\n",
       "      <td>1050.0</td>\n",
       "    </tr>\n",
       "    <tr>\n",
       "      <th>Vermont</th>\n",
       "      <td>29.0</td>\n",
       "      <td>23.3</td>\n",
       "      <td>23.1</td>\n",
       "      <td>24.4</td>\n",
       "      <td>23.2</td>\n",
       "      <td>23.6</td>\n",
       "      <td>60.0</td>\n",
       "      <td>562.0</td>\n",
       "      <td>551.0</td>\n",
       "      <td>1114.0</td>\n",
       "    </tr>\n",
       "    <tr>\n",
       "      <th>Hawaii</th>\n",
       "      <td>90.0</td>\n",
       "      <td>17.8</td>\n",
       "      <td>19.2</td>\n",
       "      <td>19.2</td>\n",
       "      <td>19.3</td>\n",
       "      <td>19.0</td>\n",
       "      <td>55.0</td>\n",
       "      <td>544.0</td>\n",
       "      <td>541.0</td>\n",
       "      <td>1085.0</td>\n",
       "    </tr>\n",
       "    <tr>\n",
       "      <th>California</th>\n",
       "      <td>31.0</td>\n",
       "      <td>22.5</td>\n",
       "      <td>22.7</td>\n",
       "      <td>23.1</td>\n",
       "      <td>22.2</td>\n",
       "      <td>22.8</td>\n",
       "      <td>53.0</td>\n",
       "      <td>531.0</td>\n",
       "      <td>524.0</td>\n",
       "      <td>1055.0</td>\n",
       "    </tr>\n",
       "    <tr>\n",
       "      <th>South Carolina</th>\n",
       "      <td>100.0</td>\n",
       "      <td>17.5</td>\n",
       "      <td>18.6</td>\n",
       "      <td>19.1</td>\n",
       "      <td>18.9</td>\n",
       "      <td>18.7</td>\n",
       "      <td>50.0</td>\n",
       "      <td>543.0</td>\n",
       "      <td>521.0</td>\n",
       "      <td>1064.0</td>\n",
       "    </tr>\n",
       "    <tr>\n",
       "      <th>North Carolina</th>\n",
       "      <td>100.0</td>\n",
       "      <td>17.8</td>\n",
       "      <td>19.3</td>\n",
       "      <td>19.6</td>\n",
       "      <td>19.3</td>\n",
       "      <td>19.1</td>\n",
       "      <td>49.0</td>\n",
       "      <td>546.0</td>\n",
       "      <td>535.0</td>\n",
       "      <td>1081.0</td>\n",
       "    </tr>\n",
       "    <tr>\n",
       "      <th>Oregon</th>\n",
       "      <td>40.0</td>\n",
       "      <td>21.2</td>\n",
       "      <td>21.5</td>\n",
       "      <td>22.4</td>\n",
       "      <td>21.7</td>\n",
       "      <td>21.8</td>\n",
       "      <td>43.0</td>\n",
       "      <td>560.0</td>\n",
       "      <td>548.0</td>\n",
       "      <td>1108.0</td>\n",
       "    </tr>\n",
       "    <tr>\n",
       "      <th>Alaska</th>\n",
       "      <td>65.0</td>\n",
       "      <td>18.7</td>\n",
       "      <td>19.8</td>\n",
       "      <td>20.4</td>\n",
       "      <td>19.9</td>\n",
       "      <td>19.8</td>\n",
       "      <td>38.0</td>\n",
       "      <td>547.0</td>\n",
       "      <td>533.0</td>\n",
       "      <td>1080.0</td>\n",
       "    </tr>\n",
       "    <tr>\n",
       "      <th>Arizona</th>\n",
       "      <td>62.0</td>\n",
       "      <td>18.6</td>\n",
       "      <td>19.8</td>\n",
       "      <td>20.1</td>\n",
       "      <td>19.8</td>\n",
       "      <td>19.7</td>\n",
       "      <td>30.0</td>\n",
       "      <td>563.0</td>\n",
       "      <td>553.0</td>\n",
       "      <td>1116.0</td>\n",
       "    </tr>\n",
       "    <tr>\n",
       "      <th>Nevada</th>\n",
       "      <td>100.0</td>\n",
       "      <td>16.3</td>\n",
       "      <td>18.0</td>\n",
       "      <td>18.1</td>\n",
       "      <td>18.2</td>\n",
       "      <td>17.8</td>\n",
       "      <td>26.0</td>\n",
       "      <td>563.0</td>\n",
       "      <td>553.0</td>\n",
       "      <td>1116.0</td>\n",
       "    </tr>\n",
       "    <tr>\n",
       "      <th>West Virginia</th>\n",
       "      <td>69.0</td>\n",
       "      <td>20.0</td>\n",
       "      <td>19.4</td>\n",
       "      <td>21.2</td>\n",
       "      <td>20.5</td>\n",
       "      <td>20.4</td>\n",
       "      <td>14.0</td>\n",
       "      <td>558.0</td>\n",
       "      <td>528.0</td>\n",
       "      <td>1086.0</td>\n",
       "    </tr>\n",
       "  </tbody>\n",
       "</table>\n",
       "</div>"
      ],
      "text/plain": [
       "                      ACT_Participation  ACT_English  ACT_Math  ACT_Reading  \\\n",
       "District of Columbia               32.0         24.4      23.5         24.9   \n",
       "Michigan                           29.0         24.1      23.7         24.5   \n",
       "Connecticut                        31.0         25.5      24.6         25.6   \n",
       "Delaware                           18.0         24.1      23.4         24.8   \n",
       "New Hampshire                      18.0         25.4      25.1         26.0   \n",
       "Maine                               8.0         24.2      24.0         24.8   \n",
       "Idaho                              38.0         21.9      21.8         23.0   \n",
       "Florida                            73.0         19.0      19.4         21.0   \n",
       "Massachusetts                      29.0         25.4      25.3         25.9   \n",
       "Rhode Island                       21.0         24.0      23.3         24.7   \n",
       "New Jersey                         34.0         23.8      23.8         24.1   \n",
       "Maryland                           28.0         23.3      23.1         24.2   \n",
       "New York                           31.0         23.8      24.0         24.6   \n",
       "Virginia                           29.0         23.5      23.3         24.6   \n",
       "Pennsylvania                       23.0         23.4      23.4         24.2   \n",
       "Washington                         29.0         20.9      21.9         22.1   \n",
       "Indiana                            35.0         22.0      22.4         23.2   \n",
       "Texas                              45.0         19.5      20.7         21.1   \n",
       "Georgia                            55.0         21.0      20.9         22.0   \n",
       "Vermont                            29.0         23.3      23.1         24.4   \n",
       "Hawaii                             90.0         17.8      19.2         19.2   \n",
       "California                         31.0         22.5      22.7         23.1   \n",
       "South Carolina                    100.0         17.5      18.6         19.1   \n",
       "North Carolina                    100.0         17.8      19.3         19.6   \n",
       "Oregon                             40.0         21.2      21.5         22.4   \n",
       "Alaska                             65.0         18.7      19.8         20.4   \n",
       "Arizona                            62.0         18.6      19.8         20.1   \n",
       "Nevada                            100.0         16.3      18.0         18.1   \n",
       "West Virginia                      69.0         20.0      19.4         21.2   \n",
       "\n",
       "                      ACT_Science  ACT_Composite  SAT_Participation  SAT_EBRW  \\\n",
       "District of Columbia         23.5           24.2              100.0     482.0   \n",
       "Michigan                     23.8           24.1              100.0     509.0   \n",
       "Connecticut                  24.6           25.2              100.0     530.0   \n",
       "Delaware                     23.6           24.1              100.0     503.0   \n",
       "New Hampshire                24.9           25.5               96.0     532.0   \n",
       "Maine                        23.7           24.3               95.0     513.0   \n",
       "Idaho                        22.1           22.3               93.0     513.0   \n",
       "Florida                      19.4           19.8               83.0     520.0   \n",
       "Massachusetts                24.7           25.4               76.0     555.0   \n",
       "Rhode Island                 23.4           24.0               71.0     539.0   \n",
       "New Jersey                   23.2           23.9               70.0     530.0   \n",
       "Maryland                      2.3           23.6               69.0     536.0   \n",
       "New York                     23.9           24.2               67.0     528.0   \n",
       "Virginia                     23.5           23.8               65.0     561.0   \n",
       "Pennsylvania                 23.3           23.7               65.0     540.0   \n",
       "Washington                   22.0           21.9               64.0     541.0   \n",
       "Indiana                      22.3           22.6               63.0     542.0   \n",
       "Texas                        20.9           20.7               62.0     513.0   \n",
       "Georgia                      21.3           21.4               61.0     535.0   \n",
       "Vermont                      23.2           23.6               60.0     562.0   \n",
       "Hawaii                       19.3           19.0               55.0     544.0   \n",
       "California                   22.2           22.8               53.0     531.0   \n",
       "South Carolina               18.9           18.7               50.0     543.0   \n",
       "North Carolina               19.3           19.1               49.0     546.0   \n",
       "Oregon                       21.7           21.8               43.0     560.0   \n",
       "Alaska                       19.9           19.8               38.0     547.0   \n",
       "Arizona                      19.8           19.7               30.0     563.0   \n",
       "Nevada                       18.2           17.8               26.0     563.0   \n",
       "West Virginia                20.5           20.4               14.0     558.0   \n",
       "\n",
       "                      SAT_Math  SAT_Total  \n",
       "District of Columbia     468.0      950.0  \n",
       "Michigan                 495.0     1005.0  \n",
       "Connecticut              512.0     1041.0  \n",
       "Delaware                 492.0      996.0  \n",
       "New Hampshire            520.0     1052.0  \n",
       "Maine                    499.0     1012.0  \n",
       "Idaho                    493.0     1005.0  \n",
       "Florida                  497.0     1017.0  \n",
       "Massachusetts            551.0     1107.0  \n",
       "Rhode Island             524.0     1062.0  \n",
       "New Jersey               526.0     1056.0  \n",
       "Maryland                  52.0     1060.0  \n",
       "New York                 523.0     1052.0  \n",
       "Virginia                 541.0     1102.0  \n",
       "Pennsylvania             531.0     1071.0  \n",
       "Washington               534.0     1075.0  \n",
       "Indiana                  532.0     1074.0  \n",
       "Texas                    507.0     1020.0  \n",
       "Georgia                  515.0     1050.0  \n",
       "Vermont                  551.0     1114.0  \n",
       "Hawaii                   541.0     1085.0  \n",
       "California               524.0     1055.0  \n",
       "South Carolina           521.0     1064.0  \n",
       "North Carolina           535.0     1081.0  \n",
       "Oregon                   548.0     1108.0  \n",
       "Alaska                   533.0     1080.0  \n",
       "Arizona                  553.0     1116.0  \n",
       "Nevada                   553.0     1116.0  \n",
       "West Virginia            528.0     1086.0  "
      ]
     },
     "execution_count": 729,
     "metadata": {},
     "output_type": "execute_result"
    }
   ],
   "source": [
    "df.sort_values('SAT_Participation', ascending=False).head(29)\n",
    "#df.sort_values('ACT_Participation', ascending=True).head(20)\n"
   ]
  },
  {
   "cell_type": "markdown",
   "metadata": {},
   "source": [
    "##### 15. Use a boolean filter to display only observations with a score above a certain threshold (e.g. only states with a participation rate above 50%)"
   ]
  },
  {
   "cell_type": "code",
   "execution_count": 730,
   "metadata": {},
   "outputs": [
    {
     "data": {
      "text/html": [
       "<div>\n",
       "<style scoped>\n",
       "    .dataframe tbody tr th:only-of-type {\n",
       "        vertical-align: middle;\n",
       "    }\n",
       "\n",
       "    .dataframe tbody tr th {\n",
       "        vertical-align: top;\n",
       "    }\n",
       "\n",
       "    .dataframe thead th {\n",
       "        text-align: right;\n",
       "    }\n",
       "</style>\n",
       "<table border=\"1\" class=\"dataframe\">\n",
       "  <thead>\n",
       "    <tr style=\"text-align: right;\">\n",
       "      <th></th>\n",
       "      <th>ACT_Participation</th>\n",
       "      <th>ACT_English</th>\n",
       "      <th>ACT_Math</th>\n",
       "      <th>ACT_Reading</th>\n",
       "      <th>ACT_Science</th>\n",
       "      <th>ACT_Composite</th>\n",
       "      <th>SAT_Participation</th>\n",
       "      <th>SAT_EBRW</th>\n",
       "      <th>SAT_Math</th>\n",
       "      <th>SAT_Total</th>\n",
       "    </tr>\n",
       "  </thead>\n",
       "  <tbody>\n",
       "    <tr>\n",
       "      <th>Iowa</th>\n",
       "      <td>67.0</td>\n",
       "      <td>21.2</td>\n",
       "      <td>21.3</td>\n",
       "      <td>22.6</td>\n",
       "      <td>22.1</td>\n",
       "      <td>21.9</td>\n",
       "      <td>2.0</td>\n",
       "      <td>641.0</td>\n",
       "      <td>635.0</td>\n",
       "      <td>1275.0</td>\n",
       "    </tr>\n",
       "    <tr>\n",
       "      <th>Kansas</th>\n",
       "      <td>73.0</td>\n",
       "      <td>21.1</td>\n",
       "      <td>21.3</td>\n",
       "      <td>22.3</td>\n",
       "      <td>21.7</td>\n",
       "      <td>21.7</td>\n",
       "      <td>4.0</td>\n",
       "      <td>632.0</td>\n",
       "      <td>628.0</td>\n",
       "      <td>1260.0</td>\n",
       "    </tr>\n",
       "    <tr>\n",
       "      <th>Ohio</th>\n",
       "      <td>75.0</td>\n",
       "      <td>21.2</td>\n",
       "      <td>21.6</td>\n",
       "      <td>22.5</td>\n",
       "      <td>22.0</td>\n",
       "      <td>22.0</td>\n",
       "      <td>12.0</td>\n",
       "      <td>578.0</td>\n",
       "      <td>570.0</td>\n",
       "      <td>1149.0</td>\n",
       "    </tr>\n",
       "  </tbody>\n",
       "</table>\n",
       "</div>"
      ],
      "text/plain": [
       "        ACT_Participation  ACT_English  ACT_Math  ACT_Reading  ACT_Science  \\\n",
       "Iowa                 67.0         21.2      21.3         22.6         22.1   \n",
       "Kansas               73.0         21.1      21.3         22.3         21.7   \n",
       "Ohio                 75.0         21.2      21.6         22.5         22.0   \n",
       "\n",
       "        ACT_Composite  SAT_Participation  SAT_EBRW  SAT_Math  SAT_Total  \n",
       "Iowa             21.9                2.0     641.0     635.0     1275.0  \n",
       "Kansas           21.7                4.0     632.0     628.0     1260.0  \n",
       "Ohio             22.0               12.0     578.0     570.0     1149.0  "
      ]
     },
     "execution_count": 730,
     "metadata": {},
     "output_type": "execute_result"
    }
   ],
   "source": [
    "SAT_part_gt_50 = df['SAT_Participation'] < 20\n",
    "ACT_part_gt_50 = df['ACT_Composite'] > 21\n",
    "ACT_part_lt_100 = df['ACT_Participation'] <80\n",
    "df[SAT_part_gt_50 & ACT_part_gt_50 & ACT_part_lt_100]\n"
   ]
  },
  {
   "cell_type": "markdown",
   "metadata": {},
   "source": [
    "## Step 3: Visualize the data"
   ]
  },
  {
   "cell_type": "code",
   "execution_count": 731,
   "metadata": {},
   "outputs": [
    {
     "data": {
      "text/html": [
       "<div>\n",
       "<style scoped>\n",
       "    .dataframe tbody tr th:only-of-type {\n",
       "        vertical-align: middle;\n",
       "    }\n",
       "\n",
       "    .dataframe tbody tr th {\n",
       "        vertical-align: top;\n",
       "    }\n",
       "\n",
       "    .dataframe thead th {\n",
       "        text-align: right;\n",
       "    }\n",
       "</style>\n",
       "<table border=\"1\" class=\"dataframe\">\n",
       "  <thead>\n",
       "    <tr style=\"text-align: right;\">\n",
       "      <th></th>\n",
       "      <th>ACT_Participation</th>\n",
       "      <th>ACT_English</th>\n",
       "      <th>ACT_Math</th>\n",
       "      <th>ACT_Reading</th>\n",
       "      <th>ACT_Science</th>\n",
       "      <th>ACT_Composite</th>\n",
       "      <th>SAT_Participation</th>\n",
       "      <th>SAT_EBRW</th>\n",
       "      <th>SAT_Math</th>\n",
       "      <th>SAT_Total</th>\n",
       "    </tr>\n",
       "  </thead>\n",
       "  <tbody>\n",
       "    <tr>\n",
       "      <th>count</th>\n",
       "      <td>51.000000</td>\n",
       "      <td>51.000000</td>\n",
       "      <td>51.000000</td>\n",
       "      <td>51.000000</td>\n",
       "      <td>51.000000</td>\n",
       "      <td>51.000000</td>\n",
       "      <td>51.000000</td>\n",
       "      <td>51.000000</td>\n",
       "      <td>51.000000</td>\n",
       "      <td>51.000000</td>\n",
       "    </tr>\n",
       "    <tr>\n",
       "      <th>mean</th>\n",
       "      <td>65.254902</td>\n",
       "      <td>20.931373</td>\n",
       "      <td>21.182353</td>\n",
       "      <td>22.013725</td>\n",
       "      <td>21.041176</td>\n",
       "      <td>21.519608</td>\n",
       "      <td>39.803922</td>\n",
       "      <td>569.117647</td>\n",
       "      <td>547.627451</td>\n",
       "      <td>1126.098039</td>\n",
       "    </tr>\n",
       "    <tr>\n",
       "      <th>std</th>\n",
       "      <td>32.140842</td>\n",
       "      <td>2.353677</td>\n",
       "      <td>1.981989</td>\n",
       "      <td>2.067271</td>\n",
       "      <td>3.182463</td>\n",
       "      <td>2.020695</td>\n",
       "      <td>35.276632</td>\n",
       "      <td>45.666901</td>\n",
       "      <td>84.909119</td>\n",
       "      <td>92.494812</td>\n",
       "    </tr>\n",
       "    <tr>\n",
       "      <th>min</th>\n",
       "      <td>8.000000</td>\n",
       "      <td>16.300000</td>\n",
       "      <td>18.000000</td>\n",
       "      <td>18.100000</td>\n",
       "      <td>2.300000</td>\n",
       "      <td>17.800000</td>\n",
       "      <td>2.000000</td>\n",
       "      <td>482.000000</td>\n",
       "      <td>52.000000</td>\n",
       "      <td>950.000000</td>\n",
       "    </tr>\n",
       "    <tr>\n",
       "      <th>25%</th>\n",
       "      <td>31.000000</td>\n",
       "      <td>19.000000</td>\n",
       "      <td>19.400000</td>\n",
       "      <td>20.450000</td>\n",
       "      <td>19.900000</td>\n",
       "      <td>19.800000</td>\n",
       "      <td>4.000000</td>\n",
       "      <td>533.500000</td>\n",
       "      <td>522.000000</td>\n",
       "      <td>1055.500000</td>\n",
       "    </tr>\n",
       "    <tr>\n",
       "      <th>50%</th>\n",
       "      <td>69.000000</td>\n",
       "      <td>20.700000</td>\n",
       "      <td>20.900000</td>\n",
       "      <td>21.800000</td>\n",
       "      <td>21.300000</td>\n",
       "      <td>21.400000</td>\n",
       "      <td>38.000000</td>\n",
       "      <td>559.000000</td>\n",
       "      <td>548.000000</td>\n",
       "      <td>1107.000000</td>\n",
       "    </tr>\n",
       "    <tr>\n",
       "      <th>75%</th>\n",
       "      <td>100.000000</td>\n",
       "      <td>23.300000</td>\n",
       "      <td>23.100000</td>\n",
       "      <td>24.150000</td>\n",
       "      <td>22.750000</td>\n",
       "      <td>23.600000</td>\n",
       "      <td>66.000000</td>\n",
       "      <td>613.000000</td>\n",
       "      <td>599.000000</td>\n",
       "      <td>1212.000000</td>\n",
       "    </tr>\n",
       "    <tr>\n",
       "      <th>max</th>\n",
       "      <td>100.000000</td>\n",
       "      <td>25.500000</td>\n",
       "      <td>25.300000</td>\n",
       "      <td>26.000000</td>\n",
       "      <td>24.900000</td>\n",
       "      <td>25.500000</td>\n",
       "      <td>100.000000</td>\n",
       "      <td>644.000000</td>\n",
       "      <td>651.000000</td>\n",
       "      <td>1295.000000</td>\n",
       "    </tr>\n",
       "  </tbody>\n",
       "</table>\n",
       "</div>"
      ],
      "text/plain": [
       "       ACT_Participation  ACT_English   ACT_Math  ACT_Reading  ACT_Science  \\\n",
       "count          51.000000    51.000000  51.000000    51.000000    51.000000   \n",
       "mean           65.254902    20.931373  21.182353    22.013725    21.041176   \n",
       "std            32.140842     2.353677   1.981989     2.067271     3.182463   \n",
       "min             8.000000    16.300000  18.000000    18.100000     2.300000   \n",
       "25%            31.000000    19.000000  19.400000    20.450000    19.900000   \n",
       "50%            69.000000    20.700000  20.900000    21.800000    21.300000   \n",
       "75%           100.000000    23.300000  23.100000    24.150000    22.750000   \n",
       "max           100.000000    25.500000  25.300000    26.000000    24.900000   \n",
       "\n",
       "       ACT_Composite  SAT_Participation    SAT_EBRW    SAT_Math    SAT_Total  \n",
       "count      51.000000          51.000000   51.000000   51.000000    51.000000  \n",
       "mean       21.519608          39.803922  569.117647  547.627451  1126.098039  \n",
       "std         2.020695          35.276632   45.666901   84.909119    92.494812  \n",
       "min        17.800000           2.000000  482.000000   52.000000   950.000000  \n",
       "25%        19.800000           4.000000  533.500000  522.000000  1055.500000  \n",
       "50%        21.400000          38.000000  559.000000  548.000000  1107.000000  \n",
       "75%        23.600000          66.000000  613.000000  599.000000  1212.000000  \n",
       "max        25.500000         100.000000  644.000000  651.000000  1295.000000  "
      ]
     },
     "execution_count": 731,
     "metadata": {},
     "output_type": "execute_result"
    }
   ],
   "source": [
    "df.describe()"
   ]
  },
  {
   "cell_type": "markdown",
   "metadata": {
    "collapsed": true
   },
   "source": [
    "##### 16. Using MatPlotLib and PyPlot, plot the distribution of the Rate columns for both SAT and ACT using histograms. (You should have two histograms. You might find [this link](https://matplotlib.org/users/pyplot_tutorial.html#working-with-multiple-figures-and-axes) helpful in organizing one plot above the other.) "
   ]
  },
  {
   "cell_type": "code",
   "execution_count": 732,
   "metadata": {},
   "outputs": [
    {
     "data": {
      "text/plain": [
       "65.25490196078431"
      ]
     },
     "execution_count": 732,
     "metadata": {},
     "output_type": "execute_result"
    },
    {
     "data": {
      "image/png": "[encoded data removed]",
      "text/plain": [
       "<Figure size 432x288 with 1 Axes>"
      ]
     },
     "metadata": {},
     "output_type": "display_data"
    }
   ],
   "source": [
    "sns.distplot(df.ACT_Participation, kde = False)\n",
    "plt.title('ACT Participation')\n",
    "plt.xlabel(\"Participation\", position = (0,0), ha = 'left', color = 'grey') # (x,y)\n",
    "plt.ylabel(\"Frequency\", position = (0, 1), ha = 'right', color = 'grey') # (x,y)\n",
    "np.mean(df['ACT_Participation'])"
   ]
  },
  {
   "cell_type": "code",
   "execution_count": 733,
   "metadata": {},
   "outputs": [
    {
     "data": {
      "text/plain": [
       "Text(0.5,1,'SAT Participation 2017')"
      ]
     },
     "execution_count": 733,
     "metadata": {},
     "output_type": "execute_result"
    },
    {
     "data": {
      "image/png": "[encoded data removed]",
      "text/plain": [
       "<Figure size 432x288 with 1 Axes>"
      ]
     },
     "metadata": {},
     "output_type": "display_data"
    }
   ],
   "source": [
    "sns.distplot(df.SAT_Participation, bins = 25, kde = False)\n",
    "plt.xlabel(\"SAT Participation\", position = (0,0), ha = 'left', color = 'grey') # (x,y)\n",
    "plt.ylabel(\"# of States\", position = (0, 1), ha = 'right', color = 'grey') # (x,y)\n",
    "plt.title('SAT Participation 2017')"
   ]
  },
  {
   "cell_type": "markdown",
   "metadata": {},
   "source": [
    "##### 17. Plot the Math(s) distributions from both data sets."
   ]
  },
  {
   "cell_type": "code",
   "execution_count": 734,
   "metadata": {},
   "outputs": [
    {
     "data": {
      "text/plain": [
       "Text(0.5,1,'ACT Math Scores')"
      ]
     },
     "execution_count": 734,
     "metadata": {},
     "output_type": "execute_result"
    },
    {
     "data": {
      "image/png": "[encoded data removed]",
      "text/plain": [
       "<Figure size 432x288 with 1 Axes>"
      ]
     },
     "metadata": {},
     "output_type": "display_data"
    }
   ],
   "source": [
    "sns.distplot(df.ACT_Math)\n",
    "plt.title('ACT Math Scores')"
   ]
  },
  {
   "cell_type": "code",
   "execution_count": 735,
   "metadata": {},
   "outputs": [
    {
     "data": {
      "text/plain": [
       "Text(0.5,1,'SAT Math Scores')"
      ]
     },
     "execution_count": 735,
     "metadata": {},
     "output_type": "execute_result"
    },
    {
     "data": {
      "image/png": "[encoded data removed]",
      "text/plain": [
       "<Figure size 432x288 with 1 Axes>"
      ]
     },
     "metadata": {},
     "output_type": "display_data"
    }
   ],
   "source": [
    "sns.distplot(df.SAT_Math)\n",
    "plt.title('SAT Math Scores')"
   ]
  },
  {
   "cell_type": "markdown",
   "metadata": {},
   "source": [
    "##### 18. Plot the Verbal distributions from both data sets."
   ]
  },
  {
   "cell_type": "code",
   "execution_count": 736,
   "metadata": {},
   "outputs": [
    {
     "data": {
      "text/plain": [
       "Text(0.5,1,'ACT English Scores')"
      ]
     },
     "execution_count": 736,
     "metadata": {},
     "output_type": "execute_result"
    },
    {
     "data": {
      "image/png": "[encoded data removed]",
      "text/plain": [
       "<Figure size 432x288 with 1 Axes>"
      ]
     },
     "metadata": {},
     "output_type": "display_data"
    }
   ],
   "source": [
    "sns.distplot(df.ACT_English)\n",
    "plt.xlabel(\"Participation\", position = (0,0), ha = 'left', color = 'grey') # (x,y)\n",
    "plt.ylabel(\"Frequency\", position = (0, 1), ha = 'right', color = 'grey') # (x,y)\n",
    "plt.title('ACT English Scores')"
   ]
  },
  {
   "cell_type": "code",
   "execution_count": 737,
   "metadata": {},
   "outputs": [
    {
     "data": {
      "text/plain": [
       "Text(0.5,1,'ACT Science Scores')"
      ]
     },
     "execution_count": 737,
     "metadata": {},
     "output_type": "execute_result"
    },
    {
     "data": {
      "image/png": "[encoded data removed]",
      "text/plain": [
       "<Figure size 432x288 with 1 Axes>"
      ]
     },
     "metadata": {},
     "output_type": "display_data"
    }
   ],
   "source": [
    "sns.distplot(df.ACT_Science)\n",
    "plt.xlabel(\"ACT Science\", position = (0,0), ha = 'left', color = 'grey') # (x,y)\n",
    "plt.ylabel(\"Frequency\", position = (0, 1), ha = 'right', color = 'grey') # (x,y)\n",
    "plt.title('ACT Science Scores')"
   ]
  },
  {
   "cell_type": "code",
   "execution_count": 738,
   "metadata": {},
   "outputs": [
    {
     "data": {
      "text/plain": [
       "Text(0.5,1,'ACT Reading Scores')"
      ]
     },
     "execution_count": 738,
     "metadata": {},
     "output_type": "execute_result"
    },
    {
     "data": {
      "image/png": "[encoded data removed]",
      "text/plain": [
       "<Figure size 432x288 with 1 Axes>"
      ]
     },
     "metadata": {},
     "output_type": "display_data"
    }
   ],
   "source": [
    "sns.distplot(df.ACT_Reading)\n",
    "plt.xlabel(\"ACT Reading\", position = (0,0), ha = 'left', color = 'grey') # (x,y)\n",
    "plt.ylabel(\"Frequency\", position = (0, 1), ha = 'right', color = 'grey') # (x,y)\n",
    "plt.title('ACT Reading Scores')"
   ]
  },
  {
   "cell_type": "code",
   "execution_count": 739,
   "metadata": {},
   "outputs": [
    {
     "data": {
      "text/plain": [
       "Text(0.5,1,'SAT EBRW(Verbal) Scores')"
      ]
     },
     "execution_count": 739,
     "metadata": {},
     "output_type": "execute_result"
    },
    {
     "data": {
      "image/png": "[encoded data removed]",
      "text/plain": [
       "<Figure size 432x288 with 1 Axes>"
      ]
     },
     "metadata": {},
     "output_type": "display_data"
    }
   ],
   "source": [
    "sns.distplot(df.SAT_EBRW)\n",
    "plt.xlabel(\"Participation\", position = (0,0), ha = 'left', color = 'grey') # (x,y)\n",
    "plt.ylabel(\"Frequency\", position = (0, 1), ha = 'right', color = 'grey') # (x,y)\n",
    "plt.title('SAT EBRW(Verbal) Scores')"
   ]
  },
  {
   "cell_type": "markdown",
   "metadata": {},
   "source": [
    "##### 19. When we make assumptions about how data are distributed, what is the most common assumption?"
   ]
  },
  {
   "cell_type": "markdown",
   "metadata": {
    "collapsed": true
   },
   "source": [
    "The most common assumption is that the sampling data and/or the population is normally distributed."
   ]
  },
  {
   "cell_type": "markdown",
   "metadata": {},
   "source": [
    "##### 20. Does this assumption hold true for any of our columns? Which?"
   ]
  },
  {
   "cell_type": "markdown",
   "metadata": {
    "collapsed": true
   },
   "source": [
    "It holds true for most columns however there are serious outliers in ACT Science scores as well as SAT Math scores that are throwing a large skew."
   ]
  },
  {
   "cell_type": "markdown",
   "metadata": {},
   "source": [
    "##### 21. Plot some scatterplots examining relationships between all variables."
   ]
  },
  {
   "cell_type": "code",
   "execution_count": 740,
   "metadata": {},
   "outputs": [
    {
     "data": {
      "text/plain": [
       "Text(0.5,1,'ACT Composite and SAT Total Correlation')"
      ]
     },
     "execution_count": 740,
     "metadata": {},
     "output_type": "execute_result"
    },
    {
     "data": {
      "image/png": "[encoded data removed]",
      "text/plain": [
       "<Figure size 432x288 with 1 Axes>"
      ]
     },
     "metadata": {},
     "output_type": "display_data"
    }
   ],
   "source": [
    "sns.regplot(df['ACT_Composite'],df['SAT_Total'])\n",
    "plt.title('ACT Composite and SAT Total Correlation')"
   ]
  },
  {
   "cell_type": "code",
   "execution_count": 741,
   "metadata": {},
   "outputs": [
    {
     "data": {
      "text/plain": [
       "Text(0.5,1,'ACT Composite and SAT Participation Correlation')"
      ]
     },
     "execution_count": 741,
     "metadata": {},
     "output_type": "execute_result"
    },
    {
     "data": {
      "image/png": "[encoded data removed]",
      "text/plain": [
       "<Figure size 432x288 with 1 Axes>"
      ]
     },
     "metadata": {},
     "output_type": "display_data"
    }
   ],
   "source": [
    "sns.regplot(df['ACT_Composite'],df['SAT_Participation'])\n",
    "plt.title('ACT Composite and SAT Participation Correlation')"
   ]
  },
  {
   "cell_type": "code",
   "execution_count": 742,
   "metadata": {},
   "outputs": [
    {
     "data": {
      "text/plain": [
       "Text(0.5,1,'ACT Participation and SAT Total Correlation')"
      ]
     },
     "execution_count": 742,
     "metadata": {},
     "output_type": "execute_result"
    },
    {
     "data": {
      "image/png": "[encoded data removed]",
      "text/plain": [
       "<Figure size 432x288 with 1 Axes>"
      ]
     },
     "metadata": {},
     "output_type": "display_data"
    }
   ],
   "source": [
    "sns.regplot(df['ACT_Participation'],df['SAT_Total'])\n",
    "plt.title('ACT Participation and SAT Total Correlation')"
   ]
  },
  {
   "cell_type": "code",
   "execution_count": 743,
   "metadata": {},
   "outputs": [
    {
     "data": {
      "image/png": "[encoded data removed]",
      "text/plain": [
       "<Figure size 432x288 with 1 Axes>"
      ]
     },
     "metadata": {},
     "output_type": "display_data"
    },
    {
     "data": {
      "text/plain": [
       "<Figure size 1080x1080 with 0 Axes>"
      ]
     },
     "metadata": {},
     "output_type": "display_data"
    }
   ],
   "source": [
    "sns.regplot(df['ACT_Participation'], df['SAT_Participation'], label='Participation')\n",
    "sns.regplot(df['ACT_Composite'], df['SAT_Total'], label='Totals')\n",
    "plt.title('ACT Participation and Composite v SAT Participipation and Total')\n",
    "plt.xlabel('ACT')\n",
    "plt.ylabel('SAT')\n",
    "plt.legend()\n",
    "plt.show()\n",
    "fig = plt.figure(figsize=(15, 15));"
   ]
  },
  {
   "cell_type": "code",
   "execution_count": 744,
   "metadata": {
    "scrolled": true
   },
   "outputs": [
    {
     "data": {
      "text/plain": [
       "Text(0.5,1,'ACT and SAT Participation')"
      ]
     },
     "execution_count": 744,
     "metadata": {},
     "output_type": "execute_result"
    },
    {
     "data": {
      "image/png": "[encoded data removed]",
      "text/plain": [
       "<Figure size 432x288 with 1 Axes>"
      ]
     },
     "metadata": {},
     "output_type": "display_data"
    }
   ],
   "source": [
    "sns.regplot(x=df['SAT_Participation'],\n",
    "            y=df['ACT_Participation'])\n",
    "plt.title('ACT and SAT Participation')\n"
   ]
  },
  {
   "cell_type": "code",
   "execution_count": 745,
   "metadata": {},
   "outputs": [
    {
     "data": {
      "text/plain": [
       "Text(0.5,1,'ACT Participation and ACT Composite Correlation')"
      ]
     },
     "execution_count": 745,
     "metadata": {},
     "output_type": "execute_result"
    },
    {
     "data": {
      "image/png": "[encoded data removed]",
      "text/plain": [
       "<Figure size 432x288 with 1 Axes>"
      ]
     },
     "metadata": {},
     "output_type": "display_data"
    }
   ],
   "source": [
    "sns.regplot(df['ACT_Participation'],df['ACT_Composite'])\n",
    "plt.title('ACT Participation and ACT Composite Correlation')"
   ]
  },
  {
   "cell_type": "code",
   "execution_count": 746,
   "metadata": {},
   "outputs": [
    {
     "data": {
      "text/plain": [
       "Text(0.5,1,'SAT Participation and SAT Total Correlation')"
      ]
     },
     "execution_count": 746,
     "metadata": {},
     "output_type": "execute_result"
    },
    {
     "data": {
      "image/png": "[encoded data removed]",
      "text/plain": [
       "<Figure size 432x288 with 1 Axes>"
      ]
     },
     "metadata": {},
     "output_type": "display_data"
    }
   ],
   "source": [
    "sns.regplot(df['SAT_Participation'],df['SAT_Total'])\n",
    "plt.title('SAT Participation and SAT Total Correlation')"
   ]
  },
  {
   "cell_type": "code",
   "execution_count": 747,
   "metadata": {},
   "outputs": [
    {
     "data": {
      "text/plain": [
       "Text(0.5,1,'SAT Math and ACT Math Correlation')"
      ]
     },
     "execution_count": 747,
     "metadata": {},
     "output_type": "execute_result"
    },
    {
     "data": {
      "image/png": "[encoded data removed]",
      "text/plain": [
       "<Figure size 432x288 with 1 Axes>"
      ]
     },
     "metadata": {},
     "output_type": "display_data"
    }
   ],
   "source": [
    "sns.regplot(df['SAT_Math'],df['ACT_Math'])\n",
    "plt.title('SAT Math and ACT Math Correlation')"
   ]
  },
  {
   "cell_type": "code",
   "execution_count": 748,
   "metadata": {},
   "outputs": [
    {
     "data": {
      "text/plain": [
       "Text(0.5,1,'SAT Verbal and ACT English Correlation')"
      ]
     },
     "execution_count": 748,
     "metadata": {},
     "output_type": "execute_result"
    },
    {
     "data": {
      "image/png": "[encoded data removed]",
      "text/plain": [
       "<Figure size 432x288 with 1 Axes>"
      ]
     },
     "metadata": {},
     "output_type": "display_data"
    }
   ],
   "source": [
    "sns.regplot(df['SAT_EBRW'],df['ACT_English'])\n",
    "plt.title('SAT Verbal and ACT English Correlation')"
   ]
  },
  {
   "cell_type": "markdown",
   "metadata": {},
   "source": [
    "##### 22. Are there any interesting relationships to note?"
   ]
  },
  {
   "cell_type": "code",
   "execution_count": 749,
   "metadata": {},
   "outputs": [
    {
     "data": {
      "text/plain": [
       "<matplotlib.axes._subplots.AxesSubplot at 0x1a28aefb38>"
      ]
     },
     "execution_count": 749,
     "metadata": {},
     "output_type": "execute_result"
    },
    {
     "data": {
      "image/png": "[encoded data removed]",
      "text/plain": [
       "<Figure size 648x648 with 2 Axes>"
      ]
     },
     "metadata": {},
     "output_type": "display_data"
    }
   ],
   "source": [
    "plt.figure(figsize =(9,9))\n",
    "sns.heatmap(df.corr(), cmap=\"GnBu_r\", annot = True)\n",
    "#This heatmap is displaying the sorrelated values between -1 and 1 of each column in the dataframe.\n",
    "#Im using this to infer the information below"
   ]
  },
  {
   "cell_type": "markdown",
   "metadata": {
    "collapsed": true
   },
   "source": [
    "1. There is a very strong negative correlation between ACT participation and SAT participation.#close to -1\n",
    "2. There is a very strong negative correlation between ACT participation and ACT composite scores.\n",
    "3. There is a very strong negative correlation between SAT participation and SAT total scores.\n",
    "4. There is very little correlation between the indivdual sections of each test(Math, Verbal etc.).# close to 0\n",
    "5. There is a strong positive correlation between ACT Composite scores as well as individula scores and SAT participation due to the fact that states with higher SAT participation have lower ACT participation which leads to higher scores with a smaller sample.\n",
    "\n"
   ]
  },
  {
   "cell_type": "markdown",
   "metadata": {},
   "source": [
    "##### 23. Create box plots for each variable. "
   ]
  },
  {
   "cell_type": "code",
   "execution_count": 750,
   "metadata": {},
   "outputs": [
    {
     "data": {
      "text/plain": [
       "Text(0.5,1,'ACT Composite Scores')"
      ]
     },
     "execution_count": 750,
     "metadata": {},
     "output_type": "execute_result"
    },
    {
     "data": {
      "image/png": "[encoded data removed]",
      "text/plain": [
       "<Figure size 432x288 with 1 Axes>"
      ]
     },
     "metadata": {},
     "output_type": "display_data"
    }
   ],
   "source": [
    "sns.boxplot(df.ACT_Composite)\n",
    "plt.title('ACT Composite Scores')"
   ]
  },
  {
   "cell_type": "code",
   "execution_count": 751,
   "metadata": {},
   "outputs": [
    {
     "data": {
      "text/plain": [
       "Text(0.5,1,'SAT Math Scores')"
      ]
     },
     "execution_count": 751,
     "metadata": {},
     "output_type": "execute_result"
    },
    {
     "data": {
      "image/png": "[encoded data removed]",
      "text/plain": [
       "<Figure size 432x288 with 1 Axes>"
      ]
     },
     "metadata": {},
     "output_type": "display_data"
    }
   ],
   "source": [
    "sns.boxplot(df.SAT_Math)#MASSIVE OUTLIER\n",
    "plt.title('SAT Math Scores')"
   ]
  },
  {
   "cell_type": "code",
   "execution_count": 752,
   "metadata": {},
   "outputs": [
    {
     "data": {
      "text/plain": [
       "Text(0.5,1,'SAT Total Scores')"
      ]
     },
     "execution_count": 752,
     "metadata": {},
     "output_type": "execute_result"
    },
    {
     "data": {
      "image/png": "[encoded data removed]",
      "text/plain": [
       "<Figure size 432x288 with 1 Axes>"
      ]
     },
     "metadata": {},
     "output_type": "display_data"
    }
   ],
   "source": [
    "sns.boxplot(df.SAT_Total)\n",
    "plt.title('SAT Total Scores')"
   ]
  },
  {
   "cell_type": "code",
   "execution_count": 753,
   "metadata": {},
   "outputs": [
    {
     "data": {
      "text/plain": [
       "Text(0.5,1,'ACT English Scores')"
      ]
     },
     "execution_count": 753,
     "metadata": {},
     "output_type": "execute_result"
    },
    {
     "data": {
      "image/png": "[encoded data removed]",
      "text/plain": [
       "<Figure size 432x288 with 1 Axes>"
      ]
     },
     "metadata": {},
     "output_type": "display_data"
    }
   ],
   "source": [
    "sns.boxplot(df.ACT_English)\n",
    "plt.title('ACT English Scores')"
   ]
  },
  {
   "cell_type": "code",
   "execution_count": 754,
   "metadata": {},
   "outputs": [
    {
     "data": {
      "text/plain": [
       "Text(0.5,1,'ACT Science Scores')"
      ]
     },
     "execution_count": 754,
     "metadata": {},
     "output_type": "execute_result"
    },
    {
     "data": {
      "image/png": "[encoded data removed]",
      "text/plain": [
       "<Figure size 432x288 with 1 Axes>"
      ]
     },
     "metadata": {},
     "output_type": "display_data"
    }
   ],
   "source": [
    "sns.boxplot(df.ACT_Science)\n",
    "plt.title('ACT Science Scores')"
   ]
  },
  {
   "cell_type": "code",
   "execution_count": 755,
   "metadata": {},
   "outputs": [
    {
     "data": {
      "text/plain": [
       "Text(0.5,1,'ACT Reading Scores')"
      ]
     },
     "execution_count": 755,
     "metadata": {},
     "output_type": "execute_result"
    },
    {
     "data": {
      "image/png": "[encoded data removed]",
      "text/plain": [
       "<Figure size 432x288 with 1 Axes>"
      ]
     },
     "metadata": {},
     "output_type": "display_data"
    }
   ],
   "source": [
    "sns.boxplot(df.ACT_Reading)\n",
    "plt.title('ACT Reading Scores')"
   ]
  },
  {
   "cell_type": "code",
   "execution_count": 756,
   "metadata": {},
   "outputs": [
    {
     "data": {
      "text/plain": [
       "Text(0.5,1,'ACT Math Scores')"
      ]
     },
     "execution_count": 756,
     "metadata": {},
     "output_type": "execute_result"
    },
    {
     "data": {
      "image/png": "[encoded data removed]",
      "text/plain": [
       "<Figure size 432x288 with 1 Axes>"
      ]
     },
     "metadata": {},
     "output_type": "display_data"
    }
   ],
   "source": [
    "sns.boxplot(df.ACT_Math)\n",
    "plt.title('ACT Math Scores')"
   ]
  },
  {
   "cell_type": "code",
   "execution_count": 757,
   "metadata": {},
   "outputs": [
    {
     "data": {
      "text/plain": [
       "Text(0.5,1,'ACT Composite Scores')"
      ]
     },
     "execution_count": 757,
     "metadata": {},
     "output_type": "execute_result"
    },
    {
     "data": {
      "image/png": "[encoded data removed]",
      "text/plain": [
       "<Figure size 432x288 with 1 Axes>"
      ]
     },
     "metadata": {},
     "output_type": "display_data"
    }
   ],
   "source": [
    "sns.boxplot(df.ACT_Composite)\n",
    "plt.title('ACT Composite Scores')"
   ]
  },
  {
   "cell_type": "markdown",
   "metadata": {},
   "source": [
    "##### BONUS: Using Tableau, create a heat map for each variable using a map of the US. "
   ]
  },
  {
   "cell_type": "code",
   "execution_count": null,
   "metadata": {},
   "outputs": [],
   "source": []
  },
  {
   "cell_type": "markdown",
   "metadata": {},
   "source": [
    "## Step 4: Descriptive and Inferential Statistics"
   ]
  },
  {
   "cell_type": "markdown",
   "metadata": {},
   "source": [
    "##### 24. Summarize each distribution. As data scientists, be sure to back up these summaries with statistics. (Hint: What are the three things we care about when describing distributions?)"
   ]
  },
  {
   "cell_type": "code",
   "execution_count": 758,
   "metadata": {},
   "outputs": [
    {
     "data": {
      "text/html": [
       "<div>\n",
       "<style scoped>\n",
       "    .dataframe tbody tr th:only-of-type {\n",
       "        vertical-align: middle;\n",
       "    }\n",
       "\n",
       "    .dataframe tbody tr th {\n",
       "        vertical-align: top;\n",
       "    }\n",
       "\n",
       "    .dataframe thead th {\n",
       "        text-align: right;\n",
       "    }\n",
       "</style>\n",
       "<table border=\"1\" class=\"dataframe\">\n",
       "  <thead>\n",
       "    <tr style=\"text-align: right;\">\n",
       "      <th></th>\n",
       "      <th>ACT_Participation</th>\n",
       "      <th>ACT_English</th>\n",
       "      <th>ACT_Math</th>\n",
       "      <th>ACT_Reading</th>\n",
       "      <th>ACT_Science</th>\n",
       "      <th>ACT_Composite</th>\n",
       "      <th>SAT_Participation</th>\n",
       "      <th>SAT_EBRW</th>\n",
       "      <th>SAT_Math</th>\n",
       "      <th>SAT_Total</th>\n",
       "    </tr>\n",
       "  </thead>\n",
       "  <tbody>\n",
       "    <tr>\n",
       "      <th>count</th>\n",
       "      <td>51.000000</td>\n",
       "      <td>51.000000</td>\n",
       "      <td>51.000000</td>\n",
       "      <td>51.000000</td>\n",
       "      <td>51.000000</td>\n",
       "      <td>51.000000</td>\n",
       "      <td>51.000000</td>\n",
       "      <td>51.000000</td>\n",
       "      <td>51.000000</td>\n",
       "      <td>51.000000</td>\n",
       "    </tr>\n",
       "    <tr>\n",
       "      <th>mean</th>\n",
       "      <td>65.254902</td>\n",
       "      <td>20.931373</td>\n",
       "      <td>21.182353</td>\n",
       "      <td>22.013725</td>\n",
       "      <td>21.041176</td>\n",
       "      <td>21.519608</td>\n",
       "      <td>39.803922</td>\n",
       "      <td>569.117647</td>\n",
       "      <td>547.627451</td>\n",
       "      <td>1126.098039</td>\n",
       "    </tr>\n",
       "    <tr>\n",
       "      <th>std</th>\n",
       "      <td>32.140842</td>\n",
       "      <td>2.353677</td>\n",
       "      <td>1.981989</td>\n",
       "      <td>2.067271</td>\n",
       "      <td>3.182463</td>\n",
       "      <td>2.020695</td>\n",
       "      <td>35.276632</td>\n",
       "      <td>45.666901</td>\n",
       "      <td>84.909119</td>\n",
       "      <td>92.494812</td>\n",
       "    </tr>\n",
       "    <tr>\n",
       "      <th>min</th>\n",
       "      <td>8.000000</td>\n",
       "      <td>16.300000</td>\n",
       "      <td>18.000000</td>\n",
       "      <td>18.100000</td>\n",
       "      <td>2.300000</td>\n",
       "      <td>17.800000</td>\n",
       "      <td>2.000000</td>\n",
       "      <td>482.000000</td>\n",
       "      <td>52.000000</td>\n",
       "      <td>950.000000</td>\n",
       "    </tr>\n",
       "    <tr>\n",
       "      <th>25%</th>\n",
       "      <td>31.000000</td>\n",
       "      <td>19.000000</td>\n",
       "      <td>19.400000</td>\n",
       "      <td>20.450000</td>\n",
       "      <td>19.900000</td>\n",
       "      <td>19.800000</td>\n",
       "      <td>4.000000</td>\n",
       "      <td>533.500000</td>\n",
       "      <td>522.000000</td>\n",
       "      <td>1055.500000</td>\n",
       "    </tr>\n",
       "    <tr>\n",
       "      <th>50%</th>\n",
       "      <td>69.000000</td>\n",
       "      <td>20.700000</td>\n",
       "      <td>20.900000</td>\n",
       "      <td>21.800000</td>\n",
       "      <td>21.300000</td>\n",
       "      <td>21.400000</td>\n",
       "      <td>38.000000</td>\n",
       "      <td>559.000000</td>\n",
       "      <td>548.000000</td>\n",
       "      <td>1107.000000</td>\n",
       "    </tr>\n",
       "    <tr>\n",
       "      <th>75%</th>\n",
       "      <td>100.000000</td>\n",
       "      <td>23.300000</td>\n",
       "      <td>23.100000</td>\n",
       "      <td>24.150000</td>\n",
       "      <td>22.750000</td>\n",
       "      <td>23.600000</td>\n",
       "      <td>66.000000</td>\n",
       "      <td>613.000000</td>\n",
       "      <td>599.000000</td>\n",
       "      <td>1212.000000</td>\n",
       "    </tr>\n",
       "    <tr>\n",
       "      <th>max</th>\n",
       "      <td>100.000000</td>\n",
       "      <td>25.500000</td>\n",
       "      <td>25.300000</td>\n",
       "      <td>26.000000</td>\n",
       "      <td>24.900000</td>\n",
       "      <td>25.500000</td>\n",
       "      <td>100.000000</td>\n",
       "      <td>644.000000</td>\n",
       "      <td>651.000000</td>\n",
       "      <td>1295.000000</td>\n",
       "    </tr>\n",
       "  </tbody>\n",
       "</table>\n",
       "</div>"
      ],
      "text/plain": [
       "       ACT_Participation  ACT_English   ACT_Math  ACT_Reading  ACT_Science  \\\n",
       "count          51.000000    51.000000  51.000000    51.000000    51.000000   \n",
       "mean           65.254902    20.931373  21.182353    22.013725    21.041176   \n",
       "std            32.140842     2.353677   1.981989     2.067271     3.182463   \n",
       "min             8.000000    16.300000  18.000000    18.100000     2.300000   \n",
       "25%            31.000000    19.000000  19.400000    20.450000    19.900000   \n",
       "50%            69.000000    20.700000  20.900000    21.800000    21.300000   \n",
       "75%           100.000000    23.300000  23.100000    24.150000    22.750000   \n",
       "max           100.000000    25.500000  25.300000    26.000000    24.900000   \n",
       "\n",
       "       ACT_Composite  SAT_Participation    SAT_EBRW    SAT_Math    SAT_Total  \n",
       "count      51.000000          51.000000   51.000000   51.000000    51.000000  \n",
       "mean       21.519608          39.803922  569.117647  547.627451  1126.098039  \n",
       "std         2.020695          35.276632   45.666901   84.909119    92.494812  \n",
       "min        17.800000           2.000000  482.000000   52.000000   950.000000  \n",
       "25%        19.800000           4.000000  533.500000  522.000000  1055.500000  \n",
       "50%        21.400000          38.000000  559.000000  548.000000  1107.000000  \n",
       "75%        23.600000          66.000000  613.000000  599.000000  1212.000000  \n",
       "max        25.500000         100.000000  644.000000  651.000000  1295.000000  "
      ]
     },
     "execution_count": 758,
     "metadata": {},
     "output_type": "execute_result"
    }
   ],
   "source": [
    "df.describe()"
   ]
  },
  {
   "cell_type": "markdown",
   "metadata": {},
   "source": [
    "ACT_Participation:\n",
    "    1. The measure of center or mean of the distribution is 65.25\n",
    "    2. The measure of spread or Standard Deviation is 32.14\n",
    "    3. The measure of shape is Normal but negatively skewed.#Tail of the distribution leans to the left\n",
    "SAT_Participation:\n",
    "    1. The measure of center of the distribuiton is 39.80\n",
    "    2. The measure of spread or Standard Deviation is 35.27#This is a very large spread due to the large variation in participation per state\n",
    "    3. The measure of shape is Normal but positively skewed.#Tail of distribution leans to the right\n",
    "ACT_Math:\n",
    "    1. The measure of center or mean of the distribution is 21.18\n",
    "    2. The measure of spread or Standard Deviation is 1.98\n",
    "    3. The measure of shape is Normal but positively skewed.\n",
    "SAT_Math:\n",
    "    1. The measure of center or mean of the distribution is 547.63\n",
    "    2. The measure of spread or Standard Deviation is 84.91#This is exceedingly high due the the outlier of the score 52 throwing the std dev off\n",
    "    3. The measure of shape heavily negatively skewed.\n",
    "ACT_English:\n",
    "    1. The measure of center or mean of the distribution is 20.93\n",
    "    2. The measure of spread or Standard Deviation is 2.35\n",
    "    3. The measure of shape is Normal but positively skewed.\n",
    "ACT_Science:\n",
    "    1. The measure of center or mean of the distribution is 21.04\n",
    "    2. The measure of spread or Standard Deviation is 3.18#Exceedingly high due to a massive outlier of 2.3 score\n",
    "    3. The measure of shape heavily negatively skewed.\n",
    "ACT_Reading:\n",
    "    1. The measure of center or mean of the distribution is 22.01\n",
    "    2. The measure of spread or Standard Deviation is 2.07\n",
    "    3. The measure of shape is Normal with a slight positive skew.\n",
    "SAT_ERBW:\n",
    "    1. The measure of center or mean of the distribution is 569.12\n",
    "    2. The measure of spread or Standard Deviation is 45.67\n",
    "    3. The measure of shape is Normal with a slight positive skew."
   ]
  },
  {
   "cell_type": "markdown",
   "metadata": {},
   "source": [
    "##### 25. Summarize each relationship. Be sure to back up these summaries with statistics."
   ]
  },
  {
   "cell_type": "markdown",
   "metadata": {
    "collapsed": true
   },
   "source": [
    "1. There is a very strong negative correlation between ACT participation and SAT participation.#close to -1\n",
    "2. There is a strong negative correlation between ACT participation and ACT composite scores.\n",
    "3. There is a very strong negative correlation between SAT participation and SAT total scores.\n",
    "4. There is very little correlation between the indivdual sections of each test(Math, Verbal etc.).# close to 0"
   ]
  },
  {
   "cell_type": "markdown",
   "metadata": {},
   "source": [
    "##### 26. Execute a hypothesis test comparing the SAT and ACT participation rates. Use $\\alpha = 0.05$. Be sure to interpret your results."
   ]
  },
  {
   "cell_type": "code",
   "execution_count": 759,
   "metadata": {},
   "outputs": [
    {
     "data": {
      "text/plain": [
       "(3.8085778908170544, 0.00024134203698662353)"
      ]
     },
     "execution_count": 759,
     "metadata": {},
     "output_type": "execute_result"
    }
   ],
   "source": [
    "result = stats.ttest_ind(df['ACT_Participation'], df['SAT_Participation'])\n",
    "result\n",
    "t_stat, p_value = result\n",
    "\n",
    "t_stat, p_value"
   ]
  },
  {
   "cell_type": "code",
   "execution_count": 760,
   "metadata": {},
   "outputs": [
    {
     "data": {
      "image/png": "[encoded data removed]",
      "text/plain": [
       "<Figure size 576x360 with 1 Axes>"
      ]
     },
     "metadata": {},
     "output_type": "display_data"
    }
   ],
   "source": [
    "xpoints = np.linspace(4, -4, 500)\n",
    "ypoints = stats.t.pdf(xpoints,\n",
    "                      len(df['ACT_Participation'])+len(df['SAT_Participation'])-2,\n",
    "                      0, 1)\n",
    "fig = plt.figure(figsize=(8,5))\n",
    "\n",
    "# Get the current \"axis\" out of the figure.\n",
    "ax = fig.gca()\n",
    "\n",
    "# Plot the lines using `matplotlib`'s plot function:\n",
    "ax.plot(xpoints, ypoints, linewidth=3, color='darkred')\n",
    "\n",
    "# Plot a vertical line for our measured difference in rates' t-statistic.\n",
    "ax.axvline(t_stat, color='black', linestyle='--', lw=5)\n",
    "ax.axvline(-t_stat, color='black', linestyle='--', lw=5)\n",
    "\n",
    "plt.savefig('P_Value.pdf')"
   ]
  },
  {
   "cell_type": "code",
   "execution_count": 761,
   "metadata": {},
   "outputs": [
    {
     "data": {
      "text/plain": [
       "(3.8085778908170544, 0.00024134203698662353)"
      ]
     },
     "execution_count": 761,
     "metadata": {},
     "output_type": "execute_result"
    }
   ],
   "source": [
    "t_stat, p_value"
   ]
  },
  {
   "cell_type": "markdown",
   "metadata": {},
   "source": [
    "Our p_value comes out to .0002. Using the principle that our probability value is less than our alpha we can reject the null value hypothisis. Something statistically important is happening here. There is a direct relationship between these 2 variables. This basically says that theres a 99.9998% chance to see a value below or above the t statistic in our distribution. "
   ]
  },
  {
   "cell_type": "markdown",
   "metadata": {},
   "source": [
    "##### 27. Generate and interpret 95% confidence intervals for SAT and ACT participation rates."
   ]
  },
  {
   "cell_type": "code",
   "execution_count": 762,
   "metadata": {},
   "outputs": [
    {
     "data": {
      "text/plain": [
       "19.36368891491739"
      ]
     },
     "execution_count": 762,
     "metadata": {},
     "output_type": "execute_result"
    }
   ],
   "source": [
    "n = df.shape[0]\n",
    "mean_part_act = np.mean(df['ACT_Participation'])\n",
    "mean_part_sat = np.mean(df['SAT_Participation'])\n",
    "\n",
    "standard_error_ACT = np.std(df['ACT_Participation'], ddof=1)/np.sqrt(n)\n",
    "standard_error_SAT = np.std(df['SAT_Participation'], ddof=1)/np.sqrt(n)\n",
    "\n",
    "z = 1.96\n",
    "ci_lower_ACT = mean_part_act - z*standard_error_ACT\n",
    "ci_lower_SAT = mean_part_sat - z*standard_error_SAT\n",
    "ci_upper_ACT = mean_part_act + z*standard_error_ACT\n",
    "ci_upper_SAT = mean_part_sat + z*standard_error_SAT\n",
    "ci_lower_SAT, ci_upper_SAT\n",
    "49.48576602608615 - 30.122077111168757"
   ]
  },
  {
   "cell_type": "code",
   "execution_count": 763,
   "metadata": {},
   "outputs": [
    {
     "data": {
      "text/plain": [
       "[<matplotlib.lines.Line2D at 0x1a2986e2b0>]"
      ]
     },
     "execution_count": 763,
     "metadata": {},
     "output_type": "execute_result"
    },
    {
     "data": {
      "image/png": "[encoded data removed]",
      "text/plain": [
       "<Figure size 720x360 with 1 Axes>"
      ]
     },
     "metadata": {},
     "output_type": "display_data"
    }
   ],
   "source": [
    "fig = plt.figure(figsize=(10,5))\n",
    "ax = fig.gca()\n",
    "\n",
    "zx = np.linspace(mean_part_act-3.5*standard_error_ACT,\n",
    "                 mean_part_act+3.5*standard_error_ACT, 250)#number of points im creating, increase to smooth out plot)\n",
    "\n",
    "Z = stats.norm(mean_part_act, standard_error_ACT)\n",
    "zy = Z.pdf(zx)#calculate the pdf for zx\n",
    "\n",
    "ax.axvline(mean_part_act-1.96*standard_error_ACT, ls='dashed', lw=3, color='#666666', alpha=0.7)\n",
    "ax.axvline(mean_part_act+1.96*standard_error_ACT, ls='dashed', lw=3, color='#666666', alpha=0.7, label='z=1.96, 95%')\n",
    "\n",
    "ax.plot(zx, zy, linewidth=3, color='darkred')"
   ]
  },
  {
   "cell_type": "markdown",
   "metadata": {},
   "source": [
    "##### 28. Given your answer to 26, was your answer to 27 surprising? Why?"
   ]
  },
  {
   "cell_type": "markdown",
   "metadata": {
    "collapsed": true
   },
   "source": [
    "This was not surprising considering what the graph from 26 looked like. We are 5% confident that the mean of ACT Participation falls in between 58.96 and 71.55. If the lines continued to move out to 99.9998(or the pvalue) we would be 99.9998% confident that the mean falls between an even wider set of numbers. "
   ]
  },
  {
   "cell_type": "markdown",
   "metadata": {},
   "source": [
    "##### 29. Is it appropriate to generate correlation between SAT and ACT math scores? Why?"
   ]
  },
  {
   "cell_type": "markdown",
   "metadata": {
    "collapsed": true
   },
   "source": [
    "No because the values are only relating to their respective tests. Theres very little statistical information that is useful to compare these two values because they are based off a different grading system."
   ]
  },
  {
   "cell_type": "markdown",
   "metadata": {},
   "source": [
    "##### 30. Suppose we only seek to understand the relationship between SAT and ACT data in 2017. Does it make sense to conduct statistical inference given the data we have? Why?"
   ]
  },
  {
   "cell_type": "markdown",
   "metadata": {
    "collapsed": true
   },
   "source": [
    "No because we dont have a proper sample of the population total. To conclude anything with more statistical certainty would mean going over alot more data in targeted areas of states."
   ]
  }
 ],
 "metadata": {
  "anaconda-cloud": {},
  "kernelspec": {
   "display_name": "Python 3",
   "language": "python",
   "name": "python3"
  },
  "language_info": {
   "codemirror_mode": {
    "name": "ipython",
    "version": 3
   },
   "file_extension": ".py",
   "mimetype": "text/x-python",
   "name": "python",
   "nbconvert_exporter": "python",
   "pygments_lexer": "ipython3",
   "version": "3.6.5"
  }
 },
 "nbformat": 4,
 "nbformat_minor": 1
}
